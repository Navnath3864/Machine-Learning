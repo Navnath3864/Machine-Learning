{
 "cells": [
  {
   "cell_type": "code",
   "execution_count": 1,
   "id": "1029176a",
   "metadata": {},
   "outputs": [
    {
     "name": "stdout",
     "output_type": "stream",
     "text": [
      "5 is greater than 2 \n"
     ]
    }
   ],
   "source": [
    "if 5>2:\n",
    "  print(\"5 is greater than 2 \") #4 spaces is required otherwise it give indentation  error.\n",
    "    "
   ]
  },
  {
   "cell_type": "code",
   "execution_count": 2,
   "id": "e417a396",
   "metadata": {},
   "outputs": [
    {
     "name": "stdout",
     "output_type": "stream",
     "text": [
      "2002\n",
      "2009\n",
      "2016\n",
      "2023\n",
      "2037\n",
      "2044\n",
      "2051\n",
      "2058\n",
      "2072\n",
      "2079\n",
      "2086\n",
      "2093\n",
      "2107\n",
      "2114\n",
      "2121\n",
      "2128\n",
      "2142\n",
      "2149\n",
      "2156\n",
      "2163\n",
      "2177\n",
      "2184\n",
      "2191\n",
      "2198\n",
      "2212\n",
      "2219\n",
      "2226\n",
      "2233\n",
      "2247\n",
      "2254\n",
      "2261\n",
      "2268\n",
      "2282\n",
      "2289\n",
      "2296\n",
      "2303\n",
      "2317\n",
      "2324\n",
      "2331\n",
      "2338\n",
      "2352\n",
      "2359\n",
      "2366\n",
      "2373\n",
      "2387\n",
      "2394\n",
      "2401\n",
      "2408\n",
      "2422\n",
      "2429\n",
      "2436\n",
      "2443\n",
      "2457\n",
      "2464\n",
      "2471\n",
      "2478\n",
      "2492\n",
      "2499\n",
      "2506\n",
      "2513\n",
      "2527\n",
      "2534\n",
      "2541\n",
      "2548\n",
      "2562\n",
      "2569\n",
      "2576\n",
      "2583\n",
      "2597\n",
      "2604\n",
      "2611\n",
      "2618\n",
      "2632\n",
      "2639\n",
      "2646\n",
      "2653\n",
      "2667\n",
      "2674\n",
      "2681\n",
      "2688\n",
      "2702\n",
      "2709\n",
      "2716\n",
      "2723\n",
      "2737\n",
      "2744\n",
      "2751\n",
      "2758\n",
      "2772\n",
      "2779\n",
      "2786\n",
      "2793\n",
      "2807\n",
      "2814\n",
      "2821\n",
      "2828\n",
      "2842\n",
      "2849\n",
      "2856\n",
      "2863\n",
      "2877\n",
      "2884\n",
      "2891\n",
      "2898\n",
      "2912\n",
      "2919\n",
      "2926\n",
      "2933\n",
      "2947\n",
      "2954\n",
      "2961\n",
      "2968\n",
      "2982\n",
      "2989\n",
      "2996\n",
      "3003\n",
      "3017\n",
      "3024\n",
      "3031\n",
      "3038\n",
      "3052\n",
      "3059\n",
      "3066\n",
      "3073\n",
      "3087\n",
      "3094\n",
      "3101\n",
      "3108\n",
      "3122\n",
      "3129\n",
      "3136\n",
      "3143\n",
      "3157\n",
      "3164\n",
      "3171\n",
      "3178\n",
      "3192\n",
      "3199\n"
     ]
    }
   ],
   "source": [
    "for i in range(2000,3200):\n",
    "    if(i%7==0 and i%5!=0):\n",
    "        print(i)"
   ]
  },
  {
   "cell_type": "code",
   "execution_count": 3,
   "id": "fe09e711",
   "metadata": {},
   "outputs": [
    {
     "name": "stdout",
     "output_type": "stream",
     "text": [
      "12\n",
      "5.2\n",
      "i am Navnath\n",
      "Zeli\n"
     ]
    }
   ],
   "source": [
    "#veriable declarartion\n",
    "x=10;\n",
    "var=\"Navnath\"\n",
    "x=5.2\n",
    "var1=\"Zeli\"\n",
    "var='i am Navnath'\n",
    "print(12)\n",
    "print(x)\n",
    "print(var)\n",
    "print(var1)"
   ]
  },
  {
   "cell_type": "code",
   "execution_count": 4,
   "id": "16d66560",
   "metadata": {},
   "outputs": [
    {
     "name": "stdout",
     "output_type": "stream",
     "text": [
      "type of x :  <class 'float'>\n",
      "type of var :  <class 'str'>\n",
      "type of var1 :  <class 'str'>\n"
     ]
    }
   ],
   "source": [
    "#veriable declarartion\n",
    "x=10;\n",
    "var=\"Navnath\"\n",
    "x=5.2\n",
    "var1=\"Zeli\"\n",
    "var='i am Navnath'\n",
    "\n",
    "print(\"type of x : \",type(x))\n",
    "print(\"type of var : \",type(var))\n",
    "print(\"type of var1 : \",type(var1))"
   ]
  },
  {
   "cell_type": "code",
   "execution_count": 5,
   "id": "084bcc68",
   "metadata": {},
   "outputs": [
    {
     "ename": "KeyboardInterrupt",
     "evalue": "Interrupted by user",
     "output_type": "error",
     "traceback": [
      "\u001b[0;31m---------------------------------------------------------------------------\u001b[0m",
      "\u001b[0;31mKeyboardInterrupt\u001b[0m                         Traceback (most recent call last)",
      "Input \u001b[0;32mIn [5]\u001b[0m, in \u001b[0;36m<cell line: 2>\u001b[0;34m()\u001b[0m\n\u001b[1;32m      1\u001b[0m \u001b[38;5;66;03m# take input from user \u001b[39;00m\n\u001b[0;32m----> 2\u001b[0m userinput\u001b[38;5;241m=\u001b[39m\u001b[38;5;28;43minput\u001b[39;49m\u001b[43m(\u001b[49m\u001b[38;5;124;43m\"\u001b[39;49m\u001b[38;5;124;43mEnter your input: \u001b[39;49m\u001b[38;5;124;43m\"\u001b[39;49m\u001b[43m)\u001b[49m\n\u001b[1;32m      3\u001b[0m \u001b[38;5;28mprint\u001b[39m(\u001b[38;5;124m\"\u001b[39m\u001b[38;5;124myour input value is: \u001b[39m\u001b[38;5;124m\"\u001b[39m,userinput)\n\u001b[1;32m      4\u001b[0m \u001b[38;5;28mprint\u001b[39m(\u001b[38;5;124m\"\u001b[39m\u001b[38;5;124mtype of data you entered : \u001b[39m\u001b[38;5;124m\"\u001b[39m,\u001b[38;5;28mtype\u001b[39m(userinput))\n",
      "File \u001b[0;32m~/anaconda3/lib/python3.9/site-packages/ipykernel/kernelbase.py:1075\u001b[0m, in \u001b[0;36mKernel.raw_input\u001b[0;34m(self, prompt)\u001b[0m\n\u001b[1;32m   1071\u001b[0m \u001b[38;5;28;01mif\u001b[39;00m \u001b[38;5;129;01mnot\u001b[39;00m \u001b[38;5;28mself\u001b[39m\u001b[38;5;241m.\u001b[39m_allow_stdin:\n\u001b[1;32m   1072\u001b[0m     \u001b[38;5;28;01mraise\u001b[39;00m StdinNotImplementedError(\n\u001b[1;32m   1073\u001b[0m         \u001b[38;5;124m\"\u001b[39m\u001b[38;5;124mraw_input was called, but this frontend does not support input requests.\u001b[39m\u001b[38;5;124m\"\u001b[39m\n\u001b[1;32m   1074\u001b[0m     )\n\u001b[0;32m-> 1075\u001b[0m \u001b[38;5;28;01mreturn\u001b[39;00m \u001b[38;5;28;43mself\u001b[39;49m\u001b[38;5;241;43m.\u001b[39;49m\u001b[43m_input_request\u001b[49m\u001b[43m(\u001b[49m\n\u001b[1;32m   1076\u001b[0m \u001b[43m    \u001b[49m\u001b[38;5;28;43mstr\u001b[39;49m\u001b[43m(\u001b[49m\u001b[43mprompt\u001b[49m\u001b[43m)\u001b[49m\u001b[43m,\u001b[49m\n\u001b[1;32m   1077\u001b[0m \u001b[43m    \u001b[49m\u001b[38;5;28;43mself\u001b[39;49m\u001b[38;5;241;43m.\u001b[39;49m\u001b[43m_parent_ident\u001b[49m\u001b[43m[\u001b[49m\u001b[38;5;124;43m\"\u001b[39;49m\u001b[38;5;124;43mshell\u001b[39;49m\u001b[38;5;124;43m\"\u001b[39;49m\u001b[43m]\u001b[49m\u001b[43m,\u001b[49m\n\u001b[1;32m   1078\u001b[0m \u001b[43m    \u001b[49m\u001b[38;5;28;43mself\u001b[39;49m\u001b[38;5;241;43m.\u001b[39;49m\u001b[43mget_parent\u001b[49m\u001b[43m(\u001b[49m\u001b[38;5;124;43m\"\u001b[39;49m\u001b[38;5;124;43mshell\u001b[39;49m\u001b[38;5;124;43m\"\u001b[39;49m\u001b[43m)\u001b[49m\u001b[43m,\u001b[49m\n\u001b[1;32m   1079\u001b[0m \u001b[43m    \u001b[49m\u001b[43mpassword\u001b[49m\u001b[38;5;241;43m=\u001b[39;49m\u001b[38;5;28;43;01mFalse\u001b[39;49;00m\u001b[43m,\u001b[49m\n\u001b[1;32m   1080\u001b[0m \u001b[43m\u001b[49m\u001b[43m)\u001b[49m\n",
      "File \u001b[0;32m~/anaconda3/lib/python3.9/site-packages/ipykernel/kernelbase.py:1120\u001b[0m, in \u001b[0;36mKernel._input_request\u001b[0;34m(self, prompt, ident, parent, password)\u001b[0m\n\u001b[1;32m   1117\u001b[0m             \u001b[38;5;28;01mbreak\u001b[39;00m\n\u001b[1;32m   1118\u001b[0m \u001b[38;5;28;01mexcept\u001b[39;00m \u001b[38;5;167;01mKeyboardInterrupt\u001b[39;00m:\n\u001b[1;32m   1119\u001b[0m     \u001b[38;5;66;03m# re-raise KeyboardInterrupt, to truncate traceback\u001b[39;00m\n\u001b[0;32m-> 1120\u001b[0m     \u001b[38;5;28;01mraise\u001b[39;00m \u001b[38;5;167;01mKeyboardInterrupt\u001b[39;00m(\u001b[38;5;124m\"\u001b[39m\u001b[38;5;124mInterrupted by user\u001b[39m\u001b[38;5;124m\"\u001b[39m) \u001b[38;5;28;01mfrom\u001b[39;00m \u001b[38;5;28mNone\u001b[39m\n\u001b[1;32m   1121\u001b[0m \u001b[38;5;28;01mexcept\u001b[39;00m \u001b[38;5;167;01mException\u001b[39;00m:\n\u001b[1;32m   1122\u001b[0m     \u001b[38;5;28mself\u001b[39m\u001b[38;5;241m.\u001b[39mlog\u001b[38;5;241m.\u001b[39mwarning(\u001b[38;5;124m\"\u001b[39m\u001b[38;5;124mInvalid Message:\u001b[39m\u001b[38;5;124m\"\u001b[39m, exc_info\u001b[38;5;241m=\u001b[39m\u001b[38;5;28;01mTrue\u001b[39;00m)\n",
      "\u001b[0;31mKeyboardInterrupt\u001b[0m: Interrupted by user"
     ]
    }
   ],
   "source": [
    "# take input from user \n",
    "userinput=input(\"Enter your input: \")\n",
    "print(\"your input value is: \",userinput)\n",
    "print(\"type of data you entered : \",type(userinput))"
   ]
  }
 ],
 "metadata": {
  "kernelspec": {
   "display_name": "Python 3 (ipykernel)",
   "language": "python",
   "name": "python3"
  },
  "language_info": {
   "codemirror_mode": {
    "name": "ipython",
    "version": 3
   },
   "file_extension": ".py",
   "mimetype": "text/x-python",
   "name": "python",
   "nbconvert_exporter": "python",
   "pygments_lexer": "ipython3",
   "version": "3.9.12"
  }
 },
 "nbformat": 4,
 "nbformat_minor": 5
}
