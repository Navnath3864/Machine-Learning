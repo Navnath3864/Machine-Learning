{
 "cells": [
  {
   "cell_type": "code",
   "execution_count": 1,
   "id": "dedc5e74",
   "metadata": {},
   "outputs": [],
   "source": [
    "name=[\"hello\",\"hi\",\"bye\"]\n",
    "for ges in name:\n",
    "    if ges==\"hi\":\n",
    "        break\n",
    "        print(ges)\n",
    "        "
   ]
  },
  {
   "cell_type": "code",
   "execution_count": 2,
   "id": "839c0463",
   "metadata": {},
   "outputs": [
    {
     "name": "stdout",
     "output_type": "stream",
     "text": [
      "my normal list:  ['apple', 'banana', 'chery', 1, 2, 3, 4, 'graps']\n"
     ]
    }
   ],
   "source": [
    "myList=[\"apple\",\"banana\",\"chery\"]\n",
    "myList.extend(range(1,5))\n",
    "myList.extend([\"graps\"])\n",
    "#myList.index(1);\n",
    "print(\"my normal list: \",myList)\n"
   ]
  },
  {
   "cell_type": "code",
   "execution_count": 3,
   "id": "7abe1acb",
   "metadata": {},
   "outputs": [
    {
     "name": "stdout",
     "output_type": "stream",
     "text": [
      "my reverse list:  ['Mango', 'graps', 4, 3, 2, 1, 'chery', 'banana', 'apple']\n"
     ]
    }
   ],
   "source": [
    "myList.append(\"Mango\")\n",
    "myList.reverse()\n",
    "print(\"my reverse list: \",myList)"
   ]
  },
  {
   "cell_type": "code",
   "execution_count": 4,
   "id": "07fa21b1",
   "metadata": {},
   "outputs": [
    {
     "name": "stdout",
     "output_type": "stream",
     "text": [
      "the number 1 is odd\n",
      "the number 2 is even \n",
      "the number 3 is odd\n",
      "the number 4 is even \n",
      "the number 5 is odd\n",
      "the number 6 is even \n",
      "the number 7 is odd\n",
      "the number 8 is even \n",
      "the number 9 is odd\n"
     ]
    }
   ],
   "source": [
    "def checkEvenOdd(givenNum):\n",
    "    for ele in givenNum:\n",
    "    #iterate the given range\n",
    "        if(ele%2==0):\n",
    "            print(\"the number {} is even \".format(ele))\n",
    "        else:\n",
    "            print(\"the number {} is odd\".format(ele))\n",
    "checkEvenOdd(range(1,10))"
   ]
  },
  {
   "cell_type": "code",
   "execution_count": 5,
   "id": "7352e715",
   "metadata": {},
   "outputs": [
    {
     "name": "stdout",
     "output_type": "stream",
     "text": [
      "10\n",
      "type of a is :  <class 'int'>\n",
      "hello python\n",
      "type of var is :  <class 'str'>\n",
      "hello\n",
      "type of string is :  <class 'str'>\n",
      "10.1\n",
      "type of fvalue is :  <class 'float'>\n"
     ]
    }
   ],
   "source": [
    "#variable declaration\n",
    "a=10\n",
    "var=\"hello python\"\n",
    "string='hello'\n",
    "fvalue=10.10;\n",
    "print(a)\n",
    "print(\"type of a is : \",type(a))\n",
    "print(var)\n",
    "print(\"type of var is : \",type(var))\n",
    "print(string)\n",
    "print(\"type of string is : \",type(string))\n",
    "print(fvalue)\n",
    "print(\"type of fvalue is : \",type(fvalue))"
   ]
  },
  {
   "cell_type": "code",
   "execution_count": null,
   "id": "7796815b",
   "metadata": {},
   "outputs": [],
   "source": []
  }
 ],
 "metadata": {
  "kernelspec": {
   "display_name": "Python 3 (ipykernel)",
   "language": "python",
   "name": "python3"
  },
  "language_info": {
   "codemirror_mode": {
    "name": "ipython",
    "version": 3
   },
   "file_extension": ".py",
   "mimetype": "text/x-python",
   "name": "python",
   "nbconvert_exporter": "python",
   "pygments_lexer": "ipython3",
   "version": "3.9.12"
  }
 },
 "nbformat": 4,
 "nbformat_minor": 5
}
