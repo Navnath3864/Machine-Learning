{
 "cells": [
  {
   "cell_type": "code",
   "execution_count": 2,
   "id": "81058a35",
   "metadata": {},
   "outputs": [
    {
     "name": "stdout",
     "output_type": "stream",
     "text": [
      "the number which is divisible by 7 and not divisible by 5 are : \n",
      "\n",
      "2002\n",
      "2009\n",
      "2016\n",
      "2023\n",
      "2037\n",
      "2044\n",
      "2051\n",
      "2058\n",
      "2072\n",
      "2079\n",
      "2086\n",
      "2093\n",
      "2107\n",
      "2114\n",
      "2121\n",
      "2128\n",
      "2142\n",
      "2149\n",
      "2156\n",
      "2163\n",
      "2177\n",
      "2184\n",
      "2191\n",
      "2198\n",
      "2212\n",
      "2219\n",
      "2226\n",
      "2233\n",
      "2247\n",
      "2254\n",
      "2261\n",
      "2268\n",
      "2282\n",
      "2289\n",
      "2296\n",
      "2303\n",
      "2317\n",
      "2324\n",
      "2331\n",
      "2338\n",
      "2352\n",
      "2359\n",
      "2366\n",
      "2373\n",
      "2387\n",
      "2394\n",
      "2401\n",
      "2408\n",
      "2422\n",
      "2429\n",
      "2436\n",
      "2443\n",
      "2457\n",
      "2464\n",
      "2471\n",
      "2478\n",
      "2492\n",
      "2499\n",
      "2506\n",
      "2513\n",
      "2527\n",
      "2534\n",
      "2541\n",
      "2548\n",
      "2562\n",
      "2569\n",
      "2576\n",
      "2583\n",
      "2597\n",
      "2604\n",
      "2611\n",
      "2618\n",
      "2632\n",
      "2639\n",
      "2646\n",
      "2653\n",
      "2667\n",
      "2674\n",
      "2681\n",
      "2688\n",
      "2702\n",
      "2709\n",
      "2716\n",
      "2723\n",
      "2737\n",
      "2744\n",
      "2751\n",
      "2758\n",
      "2772\n",
      "2779\n",
      "2786\n",
      "2793\n",
      "2807\n",
      "2814\n",
      "2821\n",
      "2828\n",
      "2842\n",
      "2849\n",
      "2856\n",
      "2863\n",
      "2877\n",
      "2884\n",
      "2891\n",
      "2898\n",
      "2912\n",
      "2919\n",
      "2926\n",
      "2933\n",
      "2947\n",
      "2954\n",
      "2961\n",
      "2968\n",
      "2982\n",
      "2989\n",
      "2996\n",
      "3003\n",
      "3017\n",
      "3024\n",
      "3031\n",
      "3038\n",
      "3052\n",
      "3059\n",
      "3066\n",
      "3073\n",
      "3087\n",
      "3094\n",
      "3101\n",
      "3108\n",
      "3122\n",
      "3129\n",
      "3136\n",
      "3143\n",
      "3157\n",
      "3164\n",
      "3171\n",
      "3178\n",
      "3192\n",
      "3199\n"
     ]
    }
   ],
   "source": [
    "# Assignment 2 Q1\n",
    "def FindNum():\n",
    "    print(\"the number which is divisible by 7 and not divisible by 5 are : \\n\")\n",
    "    for number in range(2000,3200):\n",
    "        if (number%7==0 and number%5!=0):\n",
    "            print (number)\n",
    "FindNum()"
   ]
  },
  {
   "cell_type": "code",
   "execution_count": 3,
   "id": "6864fe31",
   "metadata": {},
   "outputs": [
    {
     "name": "stdout",
     "output_type": "stream",
     "text": [
      "enter your value: 10\n",
      "1,2,5,"
     ]
    }
   ],
   "source": [
    "#Assignment 2 Q2\n",
    "def FactorialOfNum(num):\n",
    "    for i in range(1,num):\n",
    "        if(num%i==0):\n",
    "            print(i,end=\",\") #to print the value in single line we have to add end parameter in print fun\n",
    "                            #to add the output at the end\n",
    "FactorialOfNum(int (input(\"enter your value: \"))) #here we take an input from user\n",
    "                                                    #and type cast because we take input in string format\n",
    "                                                    #any format then first it will convert into int using type cast."
   ]
  },
  {
   "cell_type": "code",
   "execution_count": 4,
   "id": "313a1b9a",
   "metadata": {},
   "outputs": [
    {
     "name": "stdout",
     "output_type": "stream",
     "text": [
      "Enter your number: 22\n",
      "{ 1:1 , 2:4 , 3:9 , 4:16 , 5:25 , 6:36 , 7:49 , 8:64 , 9:81 , 10:100 , 11:121 , 12:144 , 13:169 , 14:196 , 15:225 , 16:256 , 17:289 , 18:324 , 19:361 , 20:400 , 21:441 , 22:484 ,}"
     ]
    }
   ],
   "source": [
    "#Assignment 2 Q4\n",
    "def NumSqure(n):\n",
    "    print(end=\"{\")\n",
    "    for i in range(1,n+1): #for loop used for iterataion\n",
    "        suq=i*i  #it cacluate the square and stored value in vaeriable suq\n",
    "        print(\" {}:{} \".format(i,suq),end=\",\") #.format is used for print the output in some specific format\n",
    "    print(end=\"}\")\n",
    "NumSqure(int(input(\"Enter your number: \"))) # here we take input value from user"
   ]
  },
  {
   "cell_type": "code",
   "execution_count": 5,
   "id": "2bce37b0",
   "metadata": {},
   "outputs": [
    {
     "name": "stdout",
     "output_type": "stream",
     "text": [
      "Enter the number of element you want to insert in array : kjf\n"
     ]
    },
    {
     "ename": "ValueError",
     "evalue": "invalid literal for int() with base 10: 'kjf'",
     "output_type": "error",
     "traceback": [
      "\u001b[0;31m---------------------------------------------------------------------------\u001b[0m",
      "\u001b[0;31mValueError\u001b[0m                                Traceback (most recent call last)",
      "Input \u001b[0;32mIn [5]\u001b[0m, in \u001b[0;36m<cell line: 17>\u001b[0;34m()\u001b[0m\n\u001b[1;32m     15\u001b[0m     \u001b[38;5;28mprint\u001b[39m(\u001b[38;5;124m\"\u001b[39m\u001b[38;5;124mThe Number of occurence of the number \u001b[39m\u001b[38;5;132;01m{}\u001b[39;00m\u001b[38;5;124m in given array: \u001b[39m\u001b[38;5;132;01m{}\u001b[39;00m\u001b[38;5;124m\"\u001b[39m\u001b[38;5;241m.\u001b[39mformat(num,count))\n\u001b[1;32m     16\u001b[0m \u001b[38;5;66;03m#take user input value as number of element in array       \u001b[39;00m\n\u001b[0;32m---> 17\u001b[0m NumOccurence(\u001b[38;5;28;43mint\u001b[39;49m\u001b[43m(\u001b[49m\u001b[38;5;28;43minput\u001b[39;49m\u001b[43m(\u001b[49m\u001b[38;5;124;43m\"\u001b[39;49m\u001b[38;5;124;43mEnter the number of element you want to insert in array : \u001b[39;49m\u001b[38;5;124;43m\"\u001b[39;49m\u001b[43m)\u001b[49m\u001b[43m)\u001b[49m)\n",
      "\u001b[0;31mValueError\u001b[0m: invalid literal for int() with base 10: 'kjf'"
     ]
    }
   ],
   "source": [
    "# assignment 2 Q5\n",
    "def NumOccurence(n):# n means number of elements in array or we can say that lenth of array\n",
    "    arr=[] #used to create array or we can say that list\n",
    "   #take element in list from user one by one\n",
    "    for j in range(0,n):\n",
    "        ele=int(input())\n",
    "        arr.append(ele)# append function used for add element\n",
    "    print(arr)\n",
    "   #find number of element occurence in given array\n",
    "    num=int(input(\"Enter the number to check their occurence: \"))\n",
    "    count=0\n",
    "    for j in range(0,n):\n",
    "        if(arr[j]==num):\n",
    "            count+=1;\n",
    "    print(\"The Number of occurence of the number {} in given array: {}\".format(num,count))\n",
    "#take user input value as number of element in array       \n",
    "NumOccurence(int(input(\"Enter the number of element you want to insert in array : \")))       "
   ]
  },
  {
   "cell_type": "code",
   "execution_count": null,
   "id": "acb4aa43",
   "metadata": {},
   "outputs": [],
   "source": [
    "#Assignment 2 Q7\n",
    "pi=3.14  #pi value is constant so we can declare globaly\n",
    "def circleRedious(r):\n",
    "    Area=pi*r*r #circle formula\n",
    "    print(\"Area of circle is: \",Area)\n",
    "circleRedious(float(input(\"Enter the circle redious: \"))) #take redious value from user\n",
    "\n",
    "    "
   ]
  },
  {
   "cell_type": "code",
   "execution_count": null,
   "id": "9fce319d",
   "metadata": {},
   "outputs": [],
   "source": [
    "#assignment 2 Q8\n",
    "def LongestWord(n):\n",
    "    listWord=[]\n",
    "    print(\"Enter the words in list\\n\")\n",
    "    for i in range(0,n):\n",
    "        word=str(input()) #take user input as word\n",
    "        listWord.append(word)# add word one by one in list\n",
    "    print(listWord) #print all the element\n",
    "    print(len(listWord[0]))\n",
    "  #here we have to sort the element\n",
    "    for i in range(0,n):\n",
    "    \tfor j in range(i+1,n):\n",
    "    \t    if(len(listWord[i])>len(listWord[j])):\n",
    "    \t        temp=listWord[i]\n",
    "    \t        listWord[i]=listWord[j]\n",
    "    \t        listWord[j]=temp; #after sorting the last element temp is the largest element\n",
    "    print(\"Longest word: {} and its length  is :{}\".format(temp,len(temp))) #here we print the Longest word and its length\n",
    "LongestWord(int(input(\"number of word you want to insert : \"))) #take number of element as user input\n"
   ]
  },
  {
   "cell_type": "code",
   "execution_count": null,
   "id": "89349f6c",
   "metadata": {},
   "outputs": [],
   "source": [
    "#assignment 2 Q6\n",
    "def frequencyOfStr(string):\n",
    "    dict={}\n",
    "    for i in string:\n",
    "        keys=dict.keys()\n",
    "        if i in keys:\n",
    "            dict[i]=dict[i]+1\n",
    "        else:\n",
    "            dict[i]=1\n",
    "    return dict\n",
    "frequencyOfStr(str(input(\"Enter your string: \")))"
   ]
  },
  {
   "cell_type": "code",
   "execution_count": null,
   "id": "25a6e73f",
   "metadata": {},
   "outputs": [],
   "source": [
    "#assignmnent 2 Q10\n",
    "def"
   ]
  },
  {
   "cell_type": "code",
   "execution_count": null,
   "id": "4077e0ad",
   "metadata": {},
   "outputs": [],
   "source": []
  },
  {
   "cell_type": "code",
   "execution_count": null,
   "id": "b3c3a68a",
   "metadata": {},
   "outputs": [],
   "source": []
  }
 ],
 "metadata": {
  "kernelspec": {
   "display_name": "Python 3 (ipykernel)",
   "language": "python",
   "name": "python3"
  },
  "language_info": {
   "codemirror_mode": {
    "name": "ipython",
    "version": 3
   },
   "file_extension": ".py",
   "mimetype": "text/x-python",
   "name": "python",
   "nbconvert_exporter": "python",
   "pygments_lexer": "ipython3",
   "version": "3.9.12"
  }
 },
 "nbformat": 4,
 "nbformat_minor": 5
}
