{
 "cells": [
  {
   "cell_type": "code",
   "execution_count": 1,
   "id": "123521d6",
   "metadata": {},
   "outputs": [
    {
     "data": {
      "text/plain": [
       "array([1, 2, 3])"
      ]
     },
     "execution_count": 1,
     "metadata": {},
     "output_type": "execute_result"
    }
   ],
   "source": [
    "#import numpyb packege\n",
    "import numpy as np #np is another name of numpy packeges\n",
    "\n",
    "#create  1D-array\n",
    "One_dia_array=np.array([1,2,3])\n",
    "\n",
    "#print 1D array\n",
    "\n",
    "One_dia_array"
   ]
  },
  {
   "cell_type": "code",
   "execution_count": 2,
   "id": "1072a94d",
   "metadata": {},
   "outputs": [
    {
     "data": {
      "text/plain": [
       "array([[1, 2, 3],\n",
       "       [4, 5, 6]])"
      ]
     },
     "execution_count": 2,
     "metadata": {},
     "output_type": "execute_result"
    }
   ],
   "source": [
    "#import numpyb packege\n",
    "import numpy as np #np is another name of numpy packeges\n",
    "\n",
    "#create  2D-array\n",
    "two_dia_array=np.array([[1,2,3],[4,5,6]])\n",
    "\n",
    "#print 2D array\n",
    "\n",
    "two_dia_array"
   ]
  },
  {
   "cell_type": "code",
   "execution_count": 3,
   "id": "0e412960",
   "metadata": {},
   "outputs": [
    {
     "data": {
      "text/plain": [
       "array([0, 1, 2, 3, 4, 5, 6, 7, 8, 9])"
      ]
     },
     "execution_count": 3,
     "metadata": {},
     "output_type": "execute_result"
    }
   ],
   "source": [
    "# use arange function\n",
    "import numpy as np\n",
    "# 1d array\n",
    "one_dia_array=np.arange(10)\n",
    "one_dia_array"
   ]
  },
  {
   "cell_type": "code",
   "execution_count": 4,
   "id": "5a511259",
   "metadata": {},
   "outputs": [
    {
     "name": "stdout",
     "output_type": "stream",
     "text": [
      "2d array using arange and reshape :  [[0 1]\n",
      " [2 3]\n",
      " [4 5]\n",
      " [6 7]]\n"
     ]
    }
   ],
   "source": [
    "#create 2d array using arange and reshape\n",
    "import numpy as np\n",
    "one_dia_array=np.arange(8).reshape(4,2)\n",
    "print(\"2d array using arange and reshape : \",one_dia_array)"
   ]
  },
  {
   "cell_type": "code",
   "execution_count": 5,
   "id": "6978782b",
   "metadata": {},
   "outputs": [
    {
     "name": "stdout",
     "output_type": "stream",
     "text": [
      "memory occupied by the list :  28000\n",
      "memory occupied by the numpy is:  8000\n"
     ]
    }
   ],
   "source": [
    "#why numpy is better then list\n",
    "#1 it occupie less memory\n",
    "#2 uses less time(it is fater than list)\n",
    "#3 numpy is efficient and easy to use\n",
    "\n",
    "#requred memory in numpy\n",
    "#here we requred system and time packeges\n",
    "import sys,time\n",
    "import numpy as np\n",
    "#now create a list with range of 0-999\n",
    "l=range(1000)\n",
    "\n",
    "#now calculate the memory used by the list\n",
    "print(\"memory occupied by the list : \",sys.getsizeof(1)*len(l))\n",
    "\n",
    "#create numpy array with range of 0-999\n",
    "N=np.arange(1000)\n",
    "\n",
    "#clalcute the size od the memory occupied by the numpy\n",
    "print(\"memory occupied by the numpy is: \",N.itemsize*N.size)"
   ]
  },
  {
   "cell_type": "code",
   "execution_count": 6,
   "id": "3a72f4cc",
   "metadata": {},
   "outputs": [
    {
     "name": "stdout",
     "output_type": "stream",
     "text": [
      "time taken by list is:  316.5245056152344\n",
      "time taken by Numpy is :  13.44752311706543\n"
     ]
    }
   ],
   "source": [
    "#create a variable size with value \n",
    "import numpy as np\n",
    "size=100000\n",
    "#craete a two list\n",
    "L1=range(size)\n",
    "L2=range(size)\n",
    "\n",
    "#create two numpy array\n",
    "N1=np.arange(size)\n",
    "N2=np.arange(size)\n",
    "\n",
    "#calculate the time taken by the list\n",
    "start=time.time()\n",
    "result=[L1[i]+L2[i] for i in range(len(L1))]\n",
    "print(\"time taken by list is: \",(time.time()-start)*1000)\n",
    "\n",
    "#calculate the time taken by the array\n",
    "start=time.time()\n",
    "result=N1+N2\n",
    "print(\"time taken by Numpy is : \",(time.time()-start)*1000)"
   ]
  },
  {
   "cell_type": "code",
   "execution_count": 7,
   "id": "da5382db",
   "metadata": {},
   "outputs": [
    {
     "name": "stdout",
     "output_type": "stream",
     "text": [
      "the given array is 3 diamensional \n"
     ]
    }
   ],
   "source": [
    "'''\n",
    "Numpy data type\n",
    "ndim,itemsize,dtype\n",
    "'''\n",
    "#ndim : diplay the number of diamension display in the array \n",
    "\n",
    "#diamension of array \n",
    "a=np.array([[[1,2,3],[4,5,6],[7,8,9]]])\n",
    "#print the diamension of array\n",
    "print(\"the given array is {} diamensional \".format(a.ndim))"
   ]
  },
  {
   "cell_type": "code",
   "execution_count": 8,
   "id": "872cad5b",
   "metadata": {},
   "outputs": [
    {
     "name": "stdout",
     "output_type": "stream",
     "text": [
      "4\n",
      "4\n",
      "8\n"
     ]
    }
   ],
   "source": [
    "#itemsize: it display the size of the element in byte\n",
    "a1=np.array([(1,2,3)],dtype=np.float32)\n",
    "a2=np.array([(1,2,3)],dtype=np.int32)\n",
    "a3=np.array([(1,2,3)],dtype=np.int64)\n",
    "\n",
    "print(a1.itemsize)\n",
    "print(a2.itemsize)\n",
    "print(a3.itemsize)\n"
   ]
  },
  {
   "cell_type": "code",
   "execution_count": 9,
   "id": "0092d2ba",
   "metadata": {},
   "outputs": [
    {
     "name": "stdout",
     "output_type": "stream",
     "text": [
      "int64\n"
     ]
    }
   ],
   "source": [
    "#dtype : display the number of diamension available in the array\n",
    "a1=np.array([(1,2,3)])\n",
    "print(a1.dtype)"
   ]
  },
  {
   "cell_type": "code",
   "execution_count": null,
   "id": "b147cd19",
   "metadata": {},
   "outputs": [],
   "source": []
  }
 ],
 "metadata": {
  "kernelspec": {
   "display_name": "Python 3 (ipykernel)",
   "language": "python",
   "name": "python3"
  },
  "language_info": {
   "codemirror_mode": {
    "name": "ipython",
    "version": 3
   },
   "file_extension": ".py",
   "mimetype": "text/x-python",
   "name": "python",
   "nbconvert_exporter": "python",
   "pygments_lexer": "ipython3",
   "version": "3.9.12"
  }
 },
 "nbformat": 4,
 "nbformat_minor": 5
}
