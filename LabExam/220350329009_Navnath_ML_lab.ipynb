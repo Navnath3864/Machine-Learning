{
 "cells": [
  {
   "cell_type": "code",
   "execution_count": 1,
   "id": "5abbf970",
   "metadata": {},
   "outputs": [],
   "source": [
    "#import the requred libraries\n",
    "import numpy as np\n",
    "import pandas as pd\n",
    "import matplotlib.pyplot as plt\n",
    "from sklearn.preprocessing import StandardScaler\n",
    "from sklearn.model_selection import train_test_split\n",
    "from sklearn import metrics\n",
    "from sklearn.ensemble import RandomForestClassifier"
   ]
  },
  {
   "cell_type": "code",
   "execution_count": 2,
   "id": "e4a96d4c",
   "metadata": {},
   "outputs": [],
   "source": [
    "#if it will give any wanrting then it will be ignored\n",
    "import warnings\n",
    "warnings.filterwarnings('ignore')"
   ]
  },
  {
   "cell_type": "code",
   "execution_count": 3,
   "id": "c8f90c38",
   "metadata": {},
   "outputs": [
    {
     "data": {
      "text/html": [
       "<div>\n",
       "<style scoped>\n",
       "    .dataframe tbody tr th:only-of-type {\n",
       "        vertical-align: middle;\n",
       "    }\n",
       "\n",
       "    .dataframe tbody tr th {\n",
       "        vertical-align: top;\n",
       "    }\n",
       "\n",
       "    .dataframe thead th {\n",
       "        text-align: right;\n",
       "    }\n",
       "</style>\n",
       "<table border=\"1\" class=\"dataframe\">\n",
       "  <thead>\n",
       "    <tr style=\"text-align: right;\">\n",
       "      <th></th>\n",
       "      <th>ACTIVITY</th>\n",
       "      <th>TIME</th>\n",
       "      <th>SL</th>\n",
       "      <th>EEG</th>\n",
       "      <th>BP</th>\n",
       "      <th>HR</th>\n",
       "      <th>CIRCLUATION</th>\n",
       "    </tr>\n",
       "  </thead>\n",
       "  <tbody>\n",
       "    <tr>\n",
       "      <th>0</th>\n",
       "      <td>Falling</td>\n",
       "      <td>4722.92</td>\n",
       "      <td>4019.64</td>\n",
       "      <td>-1600.00</td>\n",
       "      <td>13.0</td>\n",
       "      <td>79.0</td>\n",
       "      <td>317</td>\n",
       "    </tr>\n",
       "    <tr>\n",
       "      <th>1</th>\n",
       "      <td>Sitting</td>\n",
       "      <td>4059.12</td>\n",
       "      <td>2191.03</td>\n",
       "      <td>-1146.08</td>\n",
       "      <td>20.0</td>\n",
       "      <td>54.0</td>\n",
       "      <td>165</td>\n",
       "    </tr>\n",
       "    <tr>\n",
       "      <th>2</th>\n",
       "      <td>Sitting</td>\n",
       "      <td>4773.56</td>\n",
       "      <td>2787.99</td>\n",
       "      <td>-1263.38</td>\n",
       "      <td>46.0</td>\n",
       "      <td>67.0</td>\n",
       "      <td>224</td>\n",
       "    </tr>\n",
       "    <tr>\n",
       "      <th>3</th>\n",
       "      <td>Cramps</td>\n",
       "      <td>8271.27</td>\n",
       "      <td>9545.98</td>\n",
       "      <td>-2848.93</td>\n",
       "      <td>26.0</td>\n",
       "      <td>138.0</td>\n",
       "      <td>554</td>\n",
       "    </tr>\n",
       "    <tr>\n",
       "      <th>4</th>\n",
       "      <td>Cramps</td>\n",
       "      <td>7102.16</td>\n",
       "      <td>14148.80</td>\n",
       "      <td>-2381.15</td>\n",
       "      <td>85.0</td>\n",
       "      <td>120.0</td>\n",
       "      <td>809</td>\n",
       "    </tr>\n",
       "    <tr>\n",
       "      <th>...</th>\n",
       "      <td>...</td>\n",
       "      <td>...</td>\n",
       "      <td>...</td>\n",
       "      <td>...</td>\n",
       "      <td>...</td>\n",
       "      <td>...</td>\n",
       "      <td>...</td>\n",
       "    </tr>\n",
       "    <tr>\n",
       "      <th>16377</th>\n",
       "      <td>Cramps</td>\n",
       "      <td>9280.68</td>\n",
       "      <td>11417.00</td>\n",
       "      <td>-3021.64</td>\n",
       "      <td>36.0</td>\n",
       "      <td>156.0</td>\n",
       "      <td>654</td>\n",
       "    </tr>\n",
       "    <tr>\n",
       "      <th>16378</th>\n",
       "      <td>Falling</td>\n",
       "      <td>8479.69</td>\n",
       "      <td>9455.54</td>\n",
       "      <td>-2932.85</td>\n",
       "      <td>17.0</td>\n",
       "      <td>138.0</td>\n",
       "      <td>554</td>\n",
       "    </tr>\n",
       "    <tr>\n",
       "      <th>16379</th>\n",
       "      <td>Sitting</td>\n",
       "      <td>8872.53</td>\n",
       "      <td>27449.90</td>\n",
       "      <td>-2870.00</td>\n",
       "      <td>33.0</td>\n",
       "      <td>156.0</td>\n",
       "      <td>1364</td>\n",
       "    </tr>\n",
       "    <tr>\n",
       "      <th>16380</th>\n",
       "      <td>Cramps</td>\n",
       "      <td>7738.99</td>\n",
       "      <td>26466.40</td>\n",
       "      <td>-2920.24</td>\n",
       "      <td>97.0</td>\n",
       "      <td>156.0</td>\n",
       "      <td>1521</td>\n",
       "    </tr>\n",
       "    <tr>\n",
       "      <th>16381</th>\n",
       "      <td>Falling</td>\n",
       "      <td>9368.34</td>\n",
       "      <td>39149.10</td>\n",
       "      <td>-2970.00</td>\n",
       "      <td>21.0</td>\n",
       "      <td>196.0</td>\n",
       "      <td>1885</td>\n",
       "    </tr>\n",
       "  </tbody>\n",
       "</table>\n",
       "<p>16382 rows × 7 columns</p>\n",
       "</div>"
      ],
      "text/plain": [
       "      ACTIVITY     TIME        SL      EEG    BP     HR  CIRCLUATION\n",
       "0      Falling  4722.92   4019.64 -1600.00  13.0   79.0          317\n",
       "1      Sitting  4059.12   2191.03 -1146.08  20.0   54.0          165\n",
       "2      Sitting  4773.56   2787.99 -1263.38  46.0   67.0          224\n",
       "3       Cramps  8271.27   9545.98 -2848.93  26.0  138.0          554\n",
       "4       Cramps  7102.16  14148.80 -2381.15  85.0  120.0          809\n",
       "...        ...      ...       ...      ...   ...    ...          ...\n",
       "16377   Cramps  9280.68  11417.00 -3021.64  36.0  156.0          654\n",
       "16378  Falling  8479.69   9455.54 -2932.85  17.0  138.0          554\n",
       "16379  Sitting  8872.53  27449.90 -2870.00  33.0  156.0         1364\n",
       "16380   Cramps  7738.99  26466.40 -2920.24  97.0  156.0         1521\n",
       "16381  Falling  9368.34  39149.10 -2970.00  21.0  196.0         1885\n",
       "\n",
       "[16382 rows x 7 columns]"
      ]
     },
     "execution_count": 3,
     "metadata": {},
     "output_type": "execute_result"
    }
   ],
   "source": [
    "df=pd.read_csv(\"/home/osboxes/Desktop/Fall_Deteciton_Dataset.csv\")\n",
    "df"
   ]
  },
  {
   "cell_type": "code",
   "execution_count": 4,
   "id": "972907fd",
   "metadata": {},
   "outputs": [
    {
     "name": "stdout",
     "output_type": "stream",
     "text": [
      "any null values:  True\n",
      "null values:  ACTIVITY       0\n",
      "TIME           0\n",
      "SL             0\n",
      "EEG            0\n",
      "BP             2\n",
      "HR             1\n",
      "CIRCLUATION    0\n",
      "dtype: int64\n"
     ]
    }
   ],
   "source": [
    "print(\"any null values: \",df.isnull().values.any())\n",
    "print(\"null values: \",df.isnull().sum())"
   ]
  },
  {
   "cell_type": "code",
   "execution_count": 5,
   "id": "5b91643c",
   "metadata": {},
   "outputs": [
    {
     "data": {
      "text/html": [
       "<div>\n",
       "<style scoped>\n",
       "    .dataframe tbody tr th:only-of-type {\n",
       "        vertical-align: middle;\n",
       "    }\n",
       "\n",
       "    .dataframe tbody tr th {\n",
       "        vertical-align: top;\n",
       "    }\n",
       "\n",
       "    .dataframe thead th {\n",
       "        text-align: right;\n",
       "    }\n",
       "</style>\n",
       "<table border=\"1\" class=\"dataframe\">\n",
       "  <thead>\n",
       "    <tr style=\"text-align: right;\">\n",
       "      <th></th>\n",
       "      <th>BP</th>\n",
       "      <th>HR</th>\n",
       "    </tr>\n",
       "  </thead>\n",
       "  <tbody>\n",
       "    <tr>\n",
       "      <th>0</th>\n",
       "      <td>13.0</td>\n",
       "      <td>79.0</td>\n",
       "    </tr>\n",
       "    <tr>\n",
       "      <th>1</th>\n",
       "      <td>20.0</td>\n",
       "      <td>54.0</td>\n",
       "    </tr>\n",
       "    <tr>\n",
       "      <th>2</th>\n",
       "      <td>46.0</td>\n",
       "      <td>67.0</td>\n",
       "    </tr>\n",
       "    <tr>\n",
       "      <th>3</th>\n",
       "      <td>26.0</td>\n",
       "      <td>138.0</td>\n",
       "    </tr>\n",
       "    <tr>\n",
       "      <th>4</th>\n",
       "      <td>85.0</td>\n",
       "      <td>120.0</td>\n",
       "    </tr>\n",
       "    <tr>\n",
       "      <th>...</th>\n",
       "      <td>...</td>\n",
       "      <td>...</td>\n",
       "    </tr>\n",
       "    <tr>\n",
       "      <th>16377</th>\n",
       "      <td>36.0</td>\n",
       "      <td>156.0</td>\n",
       "    </tr>\n",
       "    <tr>\n",
       "      <th>16378</th>\n",
       "      <td>17.0</td>\n",
       "      <td>138.0</td>\n",
       "    </tr>\n",
       "    <tr>\n",
       "      <th>16379</th>\n",
       "      <td>33.0</td>\n",
       "      <td>156.0</td>\n",
       "    </tr>\n",
       "    <tr>\n",
       "      <th>16380</th>\n",
       "      <td>97.0</td>\n",
       "      <td>156.0</td>\n",
       "    </tr>\n",
       "    <tr>\n",
       "      <th>16381</th>\n",
       "      <td>21.0</td>\n",
       "      <td>196.0</td>\n",
       "    </tr>\n",
       "  </tbody>\n",
       "</table>\n",
       "<p>16382 rows × 2 columns</p>\n",
       "</div>"
      ],
      "text/plain": [
       "         BP     HR\n",
       "0      13.0   79.0\n",
       "1      20.0   54.0\n",
       "2      46.0   67.0\n",
       "3      26.0  138.0\n",
       "4      85.0  120.0\n",
       "...     ...    ...\n",
       "16377  36.0  156.0\n",
       "16378  17.0  138.0\n",
       "16379  33.0  156.0\n",
       "16380  97.0  156.0\n",
       "16381  21.0  196.0\n",
       "\n",
       "[16382 rows x 2 columns]"
      ]
     },
     "execution_count": 5,
     "metadata": {},
     "output_type": "execute_result"
    }
   ],
   "source": [
    "z=df.iloc[:,4:6]\n",
    "z"
   ]
  },
  {
   "cell_type": "code",
   "execution_count": 6,
   "id": "ad2e8192",
   "metadata": {},
   "outputs": [],
   "source": [
    "from sklearn.impute import SimpleImputer\n",
    "imp=SimpleImputer(missing_values=np.nan,strategy='mean')\n",
    "imp=imp.fit(z)\n",
    "z=imp.transform(z)\n",
    "df.iloc[:,4:6]=z"
   ]
  },
  {
   "cell_type": "code",
   "execution_count": 7,
   "id": "610664b2",
   "metadata": {},
   "outputs": [
    {
     "data": {
      "text/plain": [
       "ACTIVITY       0\n",
       "TIME           0\n",
       "SL             0\n",
       "EEG            0\n",
       "BP             0\n",
       "HR             0\n",
       "CIRCLUATION    0\n",
       "dtype: int64"
      ]
     },
     "execution_count": 7,
     "metadata": {},
     "output_type": "execute_result"
    }
   ],
   "source": [
    "df.isnull().sum()"
   ]
  },
  {
   "cell_type": "code",
   "execution_count": 8,
   "id": "3b9afcdb",
   "metadata": {},
   "outputs": [
    {
     "data": {
      "text/html": [
       "<div>\n",
       "<style scoped>\n",
       "    .dataframe tbody tr th:only-of-type {\n",
       "        vertical-align: middle;\n",
       "    }\n",
       "\n",
       "    .dataframe tbody tr th {\n",
       "        vertical-align: top;\n",
       "    }\n",
       "\n",
       "    .dataframe thead th {\n",
       "        text-align: right;\n",
       "    }\n",
       "</style>\n",
       "<table border=\"1\" class=\"dataframe\">\n",
       "  <thead>\n",
       "    <tr style=\"text-align: right;\">\n",
       "      <th></th>\n",
       "      <th>TIME</th>\n",
       "      <th>SL</th>\n",
       "      <th>EEG</th>\n",
       "      <th>BP</th>\n",
       "      <th>HR</th>\n",
       "    </tr>\n",
       "  </thead>\n",
       "  <tbody>\n",
       "    <tr>\n",
       "      <th>0</th>\n",
       "      <td>4722.92</td>\n",
       "      <td>4019.64</td>\n",
       "      <td>-1600.00</td>\n",
       "      <td>13.0</td>\n",
       "      <td>79.0</td>\n",
       "    </tr>\n",
       "    <tr>\n",
       "      <th>1</th>\n",
       "      <td>4059.12</td>\n",
       "      <td>2191.03</td>\n",
       "      <td>-1146.08</td>\n",
       "      <td>20.0</td>\n",
       "      <td>54.0</td>\n",
       "    </tr>\n",
       "    <tr>\n",
       "      <th>2</th>\n",
       "      <td>4773.56</td>\n",
       "      <td>2787.99</td>\n",
       "      <td>-1263.38</td>\n",
       "      <td>46.0</td>\n",
       "      <td>67.0</td>\n",
       "    </tr>\n",
       "    <tr>\n",
       "      <th>3</th>\n",
       "      <td>8271.27</td>\n",
       "      <td>9545.98</td>\n",
       "      <td>-2848.93</td>\n",
       "      <td>26.0</td>\n",
       "      <td>138.0</td>\n",
       "    </tr>\n",
       "    <tr>\n",
       "      <th>4</th>\n",
       "      <td>7102.16</td>\n",
       "      <td>14148.80</td>\n",
       "      <td>-2381.15</td>\n",
       "      <td>85.0</td>\n",
       "      <td>120.0</td>\n",
       "    </tr>\n",
       "    <tr>\n",
       "      <th>...</th>\n",
       "      <td>...</td>\n",
       "      <td>...</td>\n",
       "      <td>...</td>\n",
       "      <td>...</td>\n",
       "      <td>...</td>\n",
       "    </tr>\n",
       "    <tr>\n",
       "      <th>16377</th>\n",
       "      <td>9280.68</td>\n",
       "      <td>11417.00</td>\n",
       "      <td>-3021.64</td>\n",
       "      <td>36.0</td>\n",
       "      <td>156.0</td>\n",
       "    </tr>\n",
       "    <tr>\n",
       "      <th>16378</th>\n",
       "      <td>8479.69</td>\n",
       "      <td>9455.54</td>\n",
       "      <td>-2932.85</td>\n",
       "      <td>17.0</td>\n",
       "      <td>138.0</td>\n",
       "    </tr>\n",
       "    <tr>\n",
       "      <th>16379</th>\n",
       "      <td>8872.53</td>\n",
       "      <td>27449.90</td>\n",
       "      <td>-2870.00</td>\n",
       "      <td>33.0</td>\n",
       "      <td>156.0</td>\n",
       "    </tr>\n",
       "    <tr>\n",
       "      <th>16380</th>\n",
       "      <td>7738.99</td>\n",
       "      <td>26466.40</td>\n",
       "      <td>-2920.24</td>\n",
       "      <td>97.0</td>\n",
       "      <td>156.0</td>\n",
       "    </tr>\n",
       "    <tr>\n",
       "      <th>16381</th>\n",
       "      <td>9368.34</td>\n",
       "      <td>39149.10</td>\n",
       "      <td>-2970.00</td>\n",
       "      <td>21.0</td>\n",
       "      <td>196.0</td>\n",
       "    </tr>\n",
       "  </tbody>\n",
       "</table>\n",
       "<p>16382 rows × 5 columns</p>\n",
       "</div>"
      ],
      "text/plain": [
       "          TIME        SL      EEG    BP     HR\n",
       "0      4722.92   4019.64 -1600.00  13.0   79.0\n",
       "1      4059.12   2191.03 -1146.08  20.0   54.0\n",
       "2      4773.56   2787.99 -1263.38  46.0   67.0\n",
       "3      8271.27   9545.98 -2848.93  26.0  138.0\n",
       "4      7102.16  14148.80 -2381.15  85.0  120.0\n",
       "...        ...       ...      ...   ...    ...\n",
       "16377  9280.68  11417.00 -3021.64  36.0  156.0\n",
       "16378  8479.69   9455.54 -2932.85  17.0  138.0\n",
       "16379  8872.53  27449.90 -2870.00  33.0  156.0\n",
       "16380  7738.99  26466.40 -2920.24  97.0  156.0\n",
       "16381  9368.34  39149.10 -2970.00  21.0  196.0\n",
       "\n",
       "[16382 rows x 5 columns]"
      ]
     },
     "execution_count": 8,
     "metadata": {},
     "output_type": "execute_result"
    }
   ],
   "source": [
    "y=df.iloc[:,:1]\n",
    "x=df.iloc[:,1:6]\n",
    "x"
   ]
  },
  {
   "cell_type": "code",
   "execution_count": 9,
   "id": "55136e9b",
   "metadata": {},
   "outputs": [
    {
     "data": {
      "text/html": [
       "<div>\n",
       "<style scoped>\n",
       "    .dataframe tbody tr th:only-of-type {\n",
       "        vertical-align: middle;\n",
       "    }\n",
       "\n",
       "    .dataframe tbody tr th {\n",
       "        vertical-align: top;\n",
       "    }\n",
       "\n",
       "    .dataframe thead th {\n",
       "        text-align: right;\n",
       "    }\n",
       "</style>\n",
       "<table border=\"1\" class=\"dataframe\">\n",
       "  <thead>\n",
       "    <tr style=\"text-align: right;\">\n",
       "      <th></th>\n",
       "      <th>ACTIVITY</th>\n",
       "    </tr>\n",
       "  </thead>\n",
       "  <tbody>\n",
       "    <tr>\n",
       "      <th>0</th>\n",
       "      <td>Falling</td>\n",
       "    </tr>\n",
       "    <tr>\n",
       "      <th>1</th>\n",
       "      <td>Sitting</td>\n",
       "    </tr>\n",
       "    <tr>\n",
       "      <th>2</th>\n",
       "      <td>Sitting</td>\n",
       "    </tr>\n",
       "    <tr>\n",
       "      <th>3</th>\n",
       "      <td>Cramps</td>\n",
       "    </tr>\n",
       "    <tr>\n",
       "      <th>4</th>\n",
       "      <td>Cramps</td>\n",
       "    </tr>\n",
       "    <tr>\n",
       "      <th>...</th>\n",
       "      <td>...</td>\n",
       "    </tr>\n",
       "    <tr>\n",
       "      <th>16377</th>\n",
       "      <td>Cramps</td>\n",
       "    </tr>\n",
       "    <tr>\n",
       "      <th>16378</th>\n",
       "      <td>Falling</td>\n",
       "    </tr>\n",
       "    <tr>\n",
       "      <th>16379</th>\n",
       "      <td>Sitting</td>\n",
       "    </tr>\n",
       "    <tr>\n",
       "      <th>16380</th>\n",
       "      <td>Cramps</td>\n",
       "    </tr>\n",
       "    <tr>\n",
       "      <th>16381</th>\n",
       "      <td>Falling</td>\n",
       "    </tr>\n",
       "  </tbody>\n",
       "</table>\n",
       "<p>16382 rows × 1 columns</p>\n",
       "</div>"
      ],
      "text/plain": [
       "      ACTIVITY\n",
       "0      Falling\n",
       "1      Sitting\n",
       "2      Sitting\n",
       "3       Cramps\n",
       "4       Cramps\n",
       "...        ...\n",
       "16377   Cramps\n",
       "16378  Falling\n",
       "16379  Sitting\n",
       "16380   Cramps\n",
       "16381  Falling\n",
       "\n",
       "[16382 rows x 1 columns]"
      ]
     },
     "execution_count": 9,
     "metadata": {},
     "output_type": "execute_result"
    }
   ],
   "source": [
    "y"
   ]
  },
  {
   "cell_type": "code",
   "execution_count": 10,
   "id": "d20fb144",
   "metadata": {},
   "outputs": [
    {
     "data": {
      "text/plain": [
       "Index(['ACTIVITY', 'TIME', 'SL', 'EEG', 'BP', 'HR', 'CIRCLUATION'], dtype='object')"
      ]
     },
     "execution_count": 10,
     "metadata": {},
     "output_type": "execute_result"
    }
   ],
   "source": [
    "df.keys()"
   ]
  },
  {
   "cell_type": "code",
   "execution_count": 11,
   "id": "58ace3b7",
   "metadata": {},
   "outputs": [
    {
     "name": "stdout",
     "output_type": "stream",
     "text": [
      "any null values:  False\n",
      "null values:  ACTIVITY       0\n",
      "TIME           0\n",
      "SL             0\n",
      "EEG            0\n",
      "BP             0\n",
      "HR             0\n",
      "CIRCLUATION    0\n",
      "dtype: int64\n"
     ]
    }
   ],
   "source": [
    "print(\"any null values: \",df.isnull().values.any())\n",
    "print(\"null values: \",df.isnull().sum())"
   ]
  },
  {
   "cell_type": "code",
   "execution_count": 12,
   "id": "87b290f8",
   "metadata": {},
   "outputs": [
    {
     "data": {
      "text/html": [
       "<div>\n",
       "<style scoped>\n",
       "    .dataframe tbody tr th:only-of-type {\n",
       "        vertical-align: middle;\n",
       "    }\n",
       "\n",
       "    .dataframe tbody tr th {\n",
       "        vertical-align: top;\n",
       "    }\n",
       "\n",
       "    .dataframe thead th {\n",
       "        text-align: right;\n",
       "    }\n",
       "</style>\n",
       "<table border=\"1\" class=\"dataframe\">\n",
       "  <thead>\n",
       "    <tr style=\"text-align: right;\">\n",
       "      <th></th>\n",
       "      <th>ACTIVITY</th>\n",
       "      <th>TIME</th>\n",
       "      <th>SL</th>\n",
       "      <th>EEG</th>\n",
       "      <th>BP</th>\n",
       "      <th>HR</th>\n",
       "      <th>CIRCLUATION</th>\n",
       "    </tr>\n",
       "  </thead>\n",
       "  <tbody>\n",
       "    <tr>\n",
       "      <th>0</th>\n",
       "      <td>Falling</td>\n",
       "      <td>4722.92</td>\n",
       "      <td>4019.64</td>\n",
       "      <td>-1600.00</td>\n",
       "      <td>13.0</td>\n",
       "      <td>79.0</td>\n",
       "      <td>317</td>\n",
       "    </tr>\n",
       "    <tr>\n",
       "      <th>1</th>\n",
       "      <td>Sitting</td>\n",
       "      <td>4059.12</td>\n",
       "      <td>2191.03</td>\n",
       "      <td>-1146.08</td>\n",
       "      <td>20.0</td>\n",
       "      <td>54.0</td>\n",
       "      <td>165</td>\n",
       "    </tr>\n",
       "    <tr>\n",
       "      <th>2</th>\n",
       "      <td>Sitting</td>\n",
       "      <td>4773.56</td>\n",
       "      <td>2787.99</td>\n",
       "      <td>-1263.38</td>\n",
       "      <td>46.0</td>\n",
       "      <td>67.0</td>\n",
       "      <td>224</td>\n",
       "    </tr>\n",
       "    <tr>\n",
       "      <th>3</th>\n",
       "      <td>Cramps</td>\n",
       "      <td>8271.27</td>\n",
       "      <td>9545.98</td>\n",
       "      <td>-2848.93</td>\n",
       "      <td>26.0</td>\n",
       "      <td>138.0</td>\n",
       "      <td>554</td>\n",
       "    </tr>\n",
       "    <tr>\n",
       "      <th>4</th>\n",
       "      <td>Cramps</td>\n",
       "      <td>7102.16</td>\n",
       "      <td>14148.80</td>\n",
       "      <td>-2381.15</td>\n",
       "      <td>85.0</td>\n",
       "      <td>120.0</td>\n",
       "      <td>809</td>\n",
       "    </tr>\n",
       "    <tr>\n",
       "      <th>...</th>\n",
       "      <td>...</td>\n",
       "      <td>...</td>\n",
       "      <td>...</td>\n",
       "      <td>...</td>\n",
       "      <td>...</td>\n",
       "      <td>...</td>\n",
       "      <td>...</td>\n",
       "    </tr>\n",
       "    <tr>\n",
       "      <th>16377</th>\n",
       "      <td>Cramps</td>\n",
       "      <td>9280.68</td>\n",
       "      <td>11417.00</td>\n",
       "      <td>-3021.64</td>\n",
       "      <td>36.0</td>\n",
       "      <td>156.0</td>\n",
       "      <td>654</td>\n",
       "    </tr>\n",
       "    <tr>\n",
       "      <th>16378</th>\n",
       "      <td>Falling</td>\n",
       "      <td>8479.69</td>\n",
       "      <td>9455.54</td>\n",
       "      <td>-2932.85</td>\n",
       "      <td>17.0</td>\n",
       "      <td>138.0</td>\n",
       "      <td>554</td>\n",
       "    </tr>\n",
       "    <tr>\n",
       "      <th>16379</th>\n",
       "      <td>Sitting</td>\n",
       "      <td>8872.53</td>\n",
       "      <td>27449.90</td>\n",
       "      <td>-2870.00</td>\n",
       "      <td>33.0</td>\n",
       "      <td>156.0</td>\n",
       "      <td>1364</td>\n",
       "    </tr>\n",
       "    <tr>\n",
       "      <th>16380</th>\n",
       "      <td>Cramps</td>\n",
       "      <td>7738.99</td>\n",
       "      <td>26466.40</td>\n",
       "      <td>-2920.24</td>\n",
       "      <td>97.0</td>\n",
       "      <td>156.0</td>\n",
       "      <td>1521</td>\n",
       "    </tr>\n",
       "    <tr>\n",
       "      <th>16381</th>\n",
       "      <td>Falling</td>\n",
       "      <td>9368.34</td>\n",
       "      <td>39149.10</td>\n",
       "      <td>-2970.00</td>\n",
       "      <td>21.0</td>\n",
       "      <td>196.0</td>\n",
       "      <td>1885</td>\n",
       "    </tr>\n",
       "  </tbody>\n",
       "</table>\n",
       "<p>16382 rows × 7 columns</p>\n",
       "</div>"
      ],
      "text/plain": [
       "      ACTIVITY     TIME        SL      EEG    BP     HR  CIRCLUATION\n",
       "0      Falling  4722.92   4019.64 -1600.00  13.0   79.0          317\n",
       "1      Sitting  4059.12   2191.03 -1146.08  20.0   54.0          165\n",
       "2      Sitting  4773.56   2787.99 -1263.38  46.0   67.0          224\n",
       "3       Cramps  8271.27   9545.98 -2848.93  26.0  138.0          554\n",
       "4       Cramps  7102.16  14148.80 -2381.15  85.0  120.0          809\n",
       "...        ...      ...       ...      ...   ...    ...          ...\n",
       "16377   Cramps  9280.68  11417.00 -3021.64  36.0  156.0          654\n",
       "16378  Falling  8479.69   9455.54 -2932.85  17.0  138.0          554\n",
       "16379  Sitting  8872.53  27449.90 -2870.00  33.0  156.0         1364\n",
       "16380   Cramps  7738.99  26466.40 -2920.24  97.0  156.0         1521\n",
       "16381  Falling  9368.34  39149.10 -2970.00  21.0  196.0         1885\n",
       "\n",
       "[16382 rows x 7 columns]"
      ]
     },
     "execution_count": 12,
     "metadata": {},
     "output_type": "execute_result"
    }
   ],
   "source": [
    "df"
   ]
  },
  {
   "cell_type": "code",
   "execution_count": 13,
   "id": "8627f8db",
   "metadata": {},
   "outputs": [],
   "source": [
    "from sklearn.preprocessing import StandardScaler\n",
    "en_sc=StandardScaler()\n",
    "x=en_sc.fit_transform(x)"
   ]
  },
  {
   "cell_type": "code",
   "execution_count": 14,
   "id": "2fa33967",
   "metadata": {},
   "outputs": [],
   "source": [
    "#split the data into train and test part \n",
    "x_train,x_test,y_train,y_test=train_test_split(x,y,test_size=0.25,random_state=0)"
   ]
  },
  {
   "cell_type": "code",
   "execution_count": 15,
   "id": "37d28323",
   "metadata": {},
   "outputs": [],
   "source": [
    "#craete object of classifer\n",
    "model=RandomForestClassifier(n_estimators=100)"
   ]
  },
  {
   "cell_type": "code",
   "execution_count": 16,
   "id": "b228aba8",
   "metadata": {},
   "outputs": [
    {
     "data": {
      "text/plain": [
       "RandomForestClassifier()"
      ]
     },
     "execution_count": 16,
     "metadata": {},
     "output_type": "execute_result"
    }
   ],
   "source": [
    "#train the model using traing set \n",
    "model.fit(x_train,y_train)"
   ]
  },
  {
   "cell_type": "code",
   "execution_count": 17,
   "id": "9bc18414",
   "metadata": {},
   "outputs": [],
   "source": [
    "#predict the model with testing sample\n",
    "y_pred=model.predict(x_test)"
   ]
  },
  {
   "cell_type": "code",
   "execution_count": 18,
   "id": "991c14e3",
   "metadata": {},
   "outputs": [
    {
     "name": "stdout",
     "output_type": "stream",
     "text": [
      "random forest accuracy:  0.753173828125\n"
     ]
    }
   ],
   "source": [
    "#accuracy calculation\n",
    "print(\"random forest accuracy: \",metrics.accuracy_score(y_test,y_pred))"
   ]
  },
  {
   "cell_type": "code",
   "execution_count": 19,
   "id": "5fac12c6",
   "metadata": {},
   "outputs": [],
   "source": [
    "from sklearn.preprocessing import StandardScaler\n",
    "from sklearn.neighbors import KNeighborsClassifier\n",
    "from sklearn.metrics import classification_report\n",
    "from sklearn.model_selection import train_test_split\n",
    "from sklearn.metrics import roc_auc_score\n",
    "from sklearn.model_selection import GridSearchCV"
   ]
  },
  {
   "cell_type": "code",
   "execution_count": 20,
   "id": "2a20d667",
   "metadata": {},
   "outputs": [],
   "source": [
    "#kNN devolopements\n",
    "#create kNN object\n",
    "knn=KNeighborsClassifier()\n"
   ]
  },
  {
   "cell_type": "code",
   "execution_count": 21,
   "id": "e59bda1d",
   "metadata": {},
   "outputs": [
    {
     "data": {
      "text/plain": [
       "KNeighborsClassifier()"
      ]
     },
     "execution_count": 21,
     "metadata": {},
     "output_type": "execute_result"
    }
   ],
   "source": [
    "#traing the model\n",
    "knn.fit(x_train,y_train)"
   ]
  },
  {
   "cell_type": "code",
   "execution_count": 22,
   "id": "6c16f875",
   "metadata": {},
   "outputs": [
    {
     "data": {
      "text/plain": [
       "0.59912109375"
      ]
     },
     "execution_count": 22,
     "metadata": {},
     "output_type": "execute_result"
    }
   ],
   "source": [
    "#check mode performaance\n",
    "knn.score(x_test,y_test)"
   ]
  },
  {
   "cell_type": "code",
   "execution_count": 23,
   "id": "07a72ac5",
   "metadata": {},
   "outputs": [
    {
     "data": {
      "text/plain": [
       "ACTIVITY\n",
       "Standing    1133\n",
       "Falling      918\n",
       "Cramps       883\n",
       "Sitting      619\n",
       "Running      416\n",
       "Walking      127\n",
       "dtype: int64"
      ]
     },
     "execution_count": 23,
     "metadata": {},
     "output_type": "execute_result"
    }
   ],
   "source": [
    "#model Evalution\n",
    "#total number of instances\n",
    "y_test.value_counts()"
   ]
  },
  {
   "cell_type": "code",
   "execution_count": 24,
   "id": "bf2a42d3",
   "metadata": {},
   "outputs": [
    {
     "data": {
      "text/plain": [
       "array([[549, 155,  79,  43,  50,   7],\n",
       "       [193, 562,  21, 109,  30,   3],\n",
       "       [134,  40, 192,  21,  25,   4],\n",
       "       [ 49, 127,   9, 405,  14,  15],\n",
       "       [201, 144,  69,  57, 652,  10],\n",
       "       [  3,   4,   0,  25,   1,  94]])"
      ]
     },
     "execution_count": 24,
     "metadata": {},
     "output_type": "execute_result"
    }
   ],
   "source": [
    "from sklearn.metrics import confusion_matrix\n",
    "y_pred=knn.predict(x_test)\n",
    "confusion_matrix(y_test,y_pred)"
   ]
  },
  {
   "cell_type": "code",
   "execution_count": 25,
   "id": "1a11bc00",
   "metadata": {},
   "outputs": [
    {
     "data": {
      "text/plain": [
       "Text(0, 0.5, 'actual lable')"
      ]
     },
     "execution_count": 25,
     "metadata": {},
     "output_type": "execute_result"
    },
    {
     "data": {
      "image/png": "[encoded data removed]",
      "text/plain": [
       "<Figure size 432x288 with 2 Axes>"
      ]
     },
     "metadata": {
      "needs_background": "light"
     },
     "output_type": "display_data"
    }
   ],
   "source": [
    "from sklearn.metrics import plot_confusion_matrix\n",
    "cmd=plot_confusion_matrix(knn,x_test,y_test,display_labels=['0','1','2','3','4','5'],cmap=plt.cm.BuGn,normalize=None)\n",
    "plt.title(\"confusion matrix\")\n",
    "plt.ylabel(\"actual lable\")\n"
   ]
  },
  {
   "cell_type": "code",
   "execution_count": 26,
   "id": "3b113add",
   "metadata": {},
   "outputs": [
    {
     "data": {
      "text/plain": [
       "Text(0, 0.5, 'actual lable')"
      ]
     },
     "execution_count": 26,
     "metadata": {},
     "output_type": "execute_result"
    },
    {
     "data": {
      "image/png": "[encoded data removed]",
      "text/plain": [
       "<Figure size 432x288 with 2 Axes>"
      ]
     },
     "metadata": {
      "needs_background": "light"
     },
     "output_type": "display_data"
    }
   ],
   "source": [
    "from sklearn.metrics import plot_confusion_matrix\n",
    "cmd=plot_confusion_matrix(knn,x_test,y_test,display_labels=['0','1','2','3','4','5'],cmap=plt.cm.Blues,normalize=\"true\")\n",
    "plt.title(\"confusion matrix\")\n",
    "plt.ylabel(\"actual lable\")"
   ]
  },
  {
   "cell_type": "code",
   "execution_count": 27,
   "id": "8feafcca",
   "metadata": {},
   "outputs": [],
   "source": [
    "#SVM model devolopment\n",
    "from sklearn import svm\n",
    "svc=svm.SVC()"
   ]
  },
  {
   "cell_type": "code",
   "execution_count": 28,
   "id": "eaeb1d22",
   "metadata": {},
   "outputs": [
    {
     "data": {
      "text/plain": [
       "SVC()"
      ]
     },
     "execution_count": 28,
     "metadata": {},
     "output_type": "execute_result"
    }
   ],
   "source": [
    "svc.fit(x_train,y_train)"
   ]
  },
  {
   "cell_type": "code",
   "execution_count": 29,
   "id": "8fa00323",
   "metadata": {},
   "outputs": [
    {
     "data": {
      "text/plain": [
       "0.38671875"
      ]
     },
     "execution_count": 29,
     "metadata": {},
     "output_type": "execute_result"
    }
   ],
   "source": [
    "#check the model performance\n",
    "svc.score(x_test,y_test)"
   ]
  },
  {
   "cell_type": "code",
   "execution_count": 30,
   "id": "8d09971b",
   "metadata": {},
   "outputs": [],
   "source": [
    "svc_prediction=svc.predict(x_test)\n"
   ]
  },
  {
   "cell_type": "code",
   "execution_count": 31,
   "id": "8483ea76",
   "metadata": {},
   "outputs": [
    {
     "name": "stdout",
     "output_type": "stream",
     "text": [
      "              precision    recall  f1-score   support\n",
      "\n",
      "      Cramps       0.32      0.37      0.35       883\n",
      "     Falling       0.44      0.29      0.35       918\n",
      "     Running       0.00      0.00      0.00       416\n",
      "     Sitting       0.40      0.31      0.35       619\n",
      "    Standing       0.40      0.70      0.51      1133\n",
      "     Walking       0.00      0.00      0.00       127\n",
      "\n",
      "    accuracy                           0.39      4096\n",
      "   macro avg       0.26      0.28      0.26      4096\n",
      "weighted avg       0.34      0.39      0.35      4096\n",
      "\n"
     ]
    }
   ],
   "source": [
    "#print the classsification_report\n",
    "from sklearn.metrics import classification_report\n",
    "print(classification_report(y_test,svc_prediction))"
   ]
  },
  {
   "cell_type": "code",
   "execution_count": 32,
   "id": "399dd897",
   "metadata": {},
   "outputs": [
    {
     "data": {
      "text/plain": [
       "ACTIVITY\n",
       "Standing    1133\n",
       "Falling      918\n",
       "Cramps       883\n",
       "Sitting      619\n",
       "Running      416\n",
       "Walking      127\n",
       "dtype: int64"
      ]
     },
     "execution_count": 32,
     "metadata": {},
     "output_type": "execute_result"
    }
   ],
   "source": [
    "#model visualization\n",
    "#total number of instances \n",
    "y_test.value_counts()"
   ]
  },
  {
   "cell_type": "code",
   "execution_count": 33,
   "id": "5979b50b",
   "metadata": {},
   "outputs": [
    {
     "data": {
      "text/plain": [
       "array([[330,  89,   0,  75, 389,   0],\n",
       "       [217, 266,   0,  88, 347,   0],\n",
       "       [156,  43,   0,  45, 172,   0],\n",
       "       [123, 107,   0, 191, 198,   0],\n",
       "       [194, 101,   0,  41, 797,   0],\n",
       "       [  5,   5,   0,  38,  79,   0]])"
      ]
     },
     "execution_count": 33,
     "metadata": {},
     "output_type": "execute_result"
    }
   ],
   "source": [
    "#visualize using confusion metrics\n",
    "from sklearn.metrics import confusion_matrix\n",
    "y_pred=svc.predict(x_test)\n",
    "confusion_matrix(y_test,y_pred)"
   ]
  },
  {
   "cell_type": "code",
   "execution_count": 34,
   "id": "e41b0e91",
   "metadata": {},
   "outputs": [
    {
     "data": {
      "text/plain": [
       "Text(0, 0.5, 'actual lable')"
      ]
     },
     "execution_count": 34,
     "metadata": {},
     "output_type": "execute_result"
    },
    {
     "data": {
      "image/png": "[encoded data removed]",
      "text/plain": [
       "<Figure size 432x288 with 2 Axes>"
      ]
     },
     "metadata": {
      "needs_background": "light"
     },
     "output_type": "display_data"
    }
   ],
   "source": [
    "from sklearn.metrics import plot_confusion_matrix\n",
    "cmd=plot_confusion_matrix(svc,x_test,y_test,display_labels=['0','1','2','3','4','5'],cmap=plt.cm.BuGn,normalize=None)\n",
    "plt.title(\"confusion matrix\")\n",
    "plt.ylabel(\"actual lable\")\n"
   ]
  },
  {
   "cell_type": "code",
   "execution_count": 35,
   "id": "4e9b13c8",
   "metadata": {},
   "outputs": [
    {
     "data": {
      "text/plain": [
       "Text(0, 0.5, 'actual lable')"
      ]
     },
     "execution_count": 35,
     "metadata": {},
     "output_type": "execute_result"
    },
    {
     "data": {
      "image/png": "[encoded data removed]",
      "text/plain": [
       "<Figure size 432x288 with 2 Axes>"
      ]
     },
     "metadata": {
      "needs_background": "light"
     },
     "output_type": "display_data"
    }
   ],
   "source": [
    "from sklearn.metrics import plot_confusion_matrix\n",
    "cmd=plot_confusion_matrix(svc,x_test,y_test,display_labels=['0','1','2','3','4','5'],cmap=plt.cm.Blues,normalize=\"true\")\n",
    "plt.title(\"confusion matrix\")\n",
    "plt.ylabel(\"actual lable\")"
   ]
  },
  {
   "cell_type": "code",
   "execution_count": null,
   "id": "7e17f40d",
   "metadata": {},
   "outputs": [],
   "source": []
  }
 ],
 "metadata": {
  "kernelspec": {
   "display_name": "Python 3 (ipykernel)",
   "language": "python",
   "name": "python3"
  },
  "language_info": {
   "codemirror_mode": {
    "name": "ipython",
    "version": 3
   },
   "file_extension": ".py",
   "mimetype": "text/x-python",
   "name": "python",
   "nbconvert_exporter": "python",
   "pygments_lexer": "ipython3",
   "version": "3.9.12"
  }
 },
 "nbformat": 4,
 "nbformat_minor": 5
}
