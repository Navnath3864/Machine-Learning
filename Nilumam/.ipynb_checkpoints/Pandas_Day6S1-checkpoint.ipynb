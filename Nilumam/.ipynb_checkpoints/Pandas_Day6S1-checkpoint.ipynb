{
 "cells": [
  {
   "cell_type": "code",
   "execution_count": 15,
   "id": "a89cbf9b",
   "metadata": {},
   "outputs": [
    {
     "name": "stdout",
     "output_type": "stream",
     "text": [
      "the given DataFrame is : \n",
      "\n",
      "         day  temp  windspeed  event\n",
      "0 2017-01-01    32          6   rain\n",
      "1 2017-01-02    35          7  sunny\n",
      "2 2017-01-03    28          2   snow\n",
      "3 2017-01-04    24          7   snow\n",
      "4 2017-01-05    32          4   rain\n",
      "5 2017-01-06    31          2  sunny\n",
      "\n",
      "minimum windspeed is:  2\n",
      "\n",
      "maximum windspeed is:  7\n",
      "\n",
      "mean of windspeed is:  4.666666666666667\n",
      "those rows where temp is not 32\n",
      "\n"
     ]
    },
    {
     "data": {
      "text/plain": [
       "1    35\n",
       "5    31\n",
       "Name: temp, dtype: int64"
      ]
     },
     "execution_count": 15,
     "metadata": {},
     "output_type": "execute_result"
    }
   ],
   "source": [
    "#import pandas packege\n",
    "import pandas as pd\n",
    "\n",
    "#using execl means xlsx file\n",
    "df=pd.read_excel(\"/home/osboxes/Desktop/pandas.xlsx\")\n",
    "print(\"the given DataFrame is : \\n\")\n",
    "print(df)\n",
    "\n",
    "#find minimum number of windspeed in DataFrame \n",
    "print(\"\\nminimum windspeed is: \",df['windspeed'].min())\n",
    "\n",
    "#find maximum number of windspeed in DataFrame \n",
    "print(\"\\nmaximum windspeed is: \",df['windspeed'].max())\n",
    "\n",
    "#find mean number of windspeed in DataFrame \n",
    "print(\"\\nmean of windspeed is: \",df['windspeed'].mean())\n",
    "\n",
    "#print those rows where \"temp\"is not 32\n",
    "print(\"those rows where temp is not 32\\n\")\n",
    "df[df['temp' ]!= 32]\n",
    "\n",
    "#Print “temperature” when the event was sunny\n",
    "print(\"Print “temperature” when the event was sunny\\n\")\n",
    "\n",
    "df['temp'][df['event']=='sunny']"
   ]
  },
  {
   "cell_type": "code",
   "execution_count": null,
   "id": "28857959",
   "metadata": {},
   "outputs": [],
   "source": []
  },
  {
   "cell_type": "code",
   "execution_count": null,
   "id": "e4d600ce",
   "metadata": {},
   "outputs": [],
   "source": []
  }
 ],
 "metadata": {
  "kernelspec": {
   "display_name": "Python 3 (ipykernel)",
   "language": "python",
   "name": "python3"
  },
  "language_info": {
   "codemirror_mode": {
    "name": "ipython",
    "version": 3
   },
   "file_extension": ".py",
   "mimetype": "text/x-python",
   "name": "python",
   "nbconvert_exporter": "python",
   "pygments_lexer": "ipython3",
   "version": "3.9.12"
  }
 },
 "nbformat": 4,
 "nbformat_minor": 5
}
