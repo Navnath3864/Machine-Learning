{
 "cells": [
  {
   "cell_type": "code",
   "execution_count": 1,
   "id": "fa18e265",
   "metadata": {},
   "outputs": [
    {
     "data": {
      "text/plain": [
       "((6, 3), (4, 5))"
      ]
     },
     "execution_count": 1,
     "metadata": {},
     "output_type": "execute_result"
    }
   ],
   "source": [
    "#craete two points\n",
    "from scipy.spatial import distance\n",
    "point_1=(6,3)\n",
    "point_2=(4,5)\n",
    "\n",
    "#print points\n",
    "point_1,point_2"
   ]
  },
  {
   "cell_type": "code",
   "execution_count": 2,
   "id": "4b3bb2de",
   "metadata": {},
   "outputs": [
    {
     "name": "stdout",
     "output_type": "stream",
     "text": [
      "euclidean distance betwwen twon points:  2.8284271247461903\n"
     ]
    }
   ],
   "source": [
    "# 1-> Euclidean Disrance\n",
    "Euclidean_distance=distance.euclidean(point_1,point_2)\n",
    "print(\"euclidean distance betwwen twon points: \",Euclidean_distance)"
   ]
  },
  {
   "cell_type": "code",
   "execution_count": 3,
   "id": "b6116b28",
   "metadata": {},
   "outputs": [
    {
     "name": "stdout",
     "output_type": "stream",
     "text": [
      "euclidean distance betwwen twon points:  4\n"
     ]
    }
   ],
   "source": [
    "# 1-> manhattan Disrance\n",
    "manhattan_distance=distance.cityblock(point_1,point_2)\n",
    "print(\"euclidean distance betwwen twon points: \",manhattan_distance)"
   ]
  },
  {
   "cell_type": "code",
   "execution_count": 4,
   "id": "8fac6ad2",
   "metadata": {},
   "outputs": [
    {
     "name": "stdout",
     "output_type": "stream",
     "text": [
      "minkowski distance betwwen twon points:  2.5198420997897464\n"
     ]
    }
   ],
   "source": [
    "# 1-> minkowski Disrance\n",
    "minkowski_distance=distance.minkowski(point_1,point_2,p=3)\n",
    "print(\"minkowski distance betwwen twon points: \",minkowski_distance)"
   ]
  },
  {
   "cell_type": "code",
   "execution_count": 10,
   "id": "784289ec",
   "metadata": {},
   "outputs": [
    {
     "name": "stdout",
     "output_type": "stream",
     "text": [
      "hamming distance betwwen twon points:  2.0\n"
     ]
    }
   ],
   "source": [
    "# 1-> hamming Disrance\n",
    "#hamming works on string\n",
    "#so we define two string\n",
    "string_1='cat'\n",
    "string_2='may'\n",
    "\n",
    "#computing the hamming distance\n",
    "\n",
    "hamming_distance=distance.hamming(list(string_1),list(string_2))*len(string_1) \n",
    "print(\"hamming distance betwwen twon points: \",hamming_distance)"
   ]
  },
  {
   "cell_type": "code",
   "execution_count": null,
   "id": "9d3c3cb1",
   "metadata": {},
   "outputs": [],
   "source": []
  },
  {
   "cell_type": "code",
   "execution_count": null,
   "id": "0bf34c64",
   "metadata": {},
   "outputs": [],
   "source": []
  }
 ],
 "metadata": {
  "kernelspec": {
   "display_name": "Python 3 (ipykernel)",
   "language": "python",
   "name": "python3"
  },
  "language_info": {
   "codemirror_mode": {
    "name": "ipython",
    "version": 3
   },
   "file_extension": ".py",
   "mimetype": "text/x-python",
   "name": "python",
   "nbconvert_exporter": "python",
   "pygments_lexer": "ipython3",
   "version": "3.9.12"
  }
 },
 "nbformat": 4,
 "nbformat_minor": 5
}
