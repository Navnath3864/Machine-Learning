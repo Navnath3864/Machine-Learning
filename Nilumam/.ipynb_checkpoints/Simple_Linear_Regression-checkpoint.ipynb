{
 "cells": [
  {
   "cell_type": "code",
   "execution_count": 3,
   "id": "af03d3a9",
   "metadata": {
    "slideshow": {
     "slide_type": "-"
    }
   },
   "outputs": [],
   "source": [
    "#import all requred libraries\n",
    "import numpy as np\n",
    "import matplotlib.pyplot as plt\n",
    "import pandas as pd\n"
   ]
  },
  {
   "cell_type": "code",
   "execution_count": 5,
   "id": "12d1566c",
   "metadata": {},
   "outputs": [
    {
     "name": "stdout",
     "output_type": "stream",
     "text": [
      "      sqft_living         price\n",
      "0            1234  1.300000e+07\n",
      "1            1340  3.130000e+05\n",
      "2            3650  2.384000e+06\n",
      "3            1930  3.420000e+05\n",
      "4            2000  4.200000e+05\n",
      "...           ...           ...\n",
      "4596         1510  3.081667e+05\n",
      "4597         1460  5.343333e+05\n",
      "4598         3010  4.169042e+05\n",
      "4599         2090  2.034000e+05\n",
      "4600         1490  2.206000e+05\n",
      "\n",
      "[4601 rows x 2 columns]\n"
     ]
    }
   ],
   "source": [
    "#load the dataset\n",
    "df=pd.read_csv(\"/home/osboxes/Desktop/housingShort_data.csv\")\n",
    "print(df)\n"
   ]
  },
  {
   "cell_type": "code",
   "execution_count": 6,
   "id": "3246d3ee",
   "metadata": {},
   "outputs": [
    {
     "data": {
      "text/plain": [
       "array([[1234],\n",
       "       [1340],\n",
       "       [3650],\n",
       "       ...,\n",
       "       [3010],\n",
       "       [2090],\n",
       "       [1490]])"
      ]
     },
     "execution_count": 6,
     "metadata": {},
     "output_type": "execute_result"
    }
   ],
   "source": [
    "#extract the input values from datasets\n",
    "x=df.iloc[:,:-1].values\n",
    "x"
   ]
  },
  {
   "cell_type": "code",
   "execution_count": 7,
   "id": "405ea884",
   "metadata": {},
   "outputs": [
    {
     "data": {
      "text/plain": [
       "array([13000000.    ,   313000.    ,  2384000.    , ...,   416904.1667,\n",
       "         203400.    ,   220600.    ])"
      ]
     },
     "execution_count": 7,
     "metadata": {},
     "output_type": "execute_result"
    }
   ],
   "source": [
    "y=df.iloc[:,1].values\n",
    "y"
   ]
  },
  {
   "cell_type": "code",
   "execution_count": 9,
   "id": "504bc24c",
   "metadata": {},
   "outputs": [
    {
     "name": "stdout",
     "output_type": "stream",
     "text": [
      "NaN values are available :  False\n",
      "there are  sqft_living    0\n",
      "price          0\n",
      "dtype: int64 NaN values in dataset\n"
     ]
    }
   ],
   "source": [
    "#if in case the database is large\n",
    "\n",
    "print(\"NaN values are available : \",df.isnull().values.any())\n",
    "print(\"there are \",df.isnull().sum(),\"NaN values in dataset\")\n"
   ]
  },
  {
   "cell_type": "code",
   "execution_count": 10,
   "id": "dbc7cf17",
   "metadata": {},
   "outputs": [
    {
     "name": "stdout",
     "output_type": "stream",
     "text": [
      "imputed data:  [[1234.]\n",
      " [1340.]\n",
      " [3650.]\n",
      " ...\n",
      " [3010.]\n",
      " [2090.]\n",
      " [1490.]]\n"
     ]
    }
   ],
   "source": [
    "#handling the missing data\n",
    "from sklearn.impute import SimpleImputer\n",
    "\n",
    "#Imputer object using the mean strategy and missing values types for imputation\n",
    "\n",
    "imputer=SimpleImputer(missing_values=np.nan,strategy='mean')\n",
    "\n",
    "#fitting the data to the imputer object \n",
    "\n",
    "imputer=imputer.fit(x)\n",
    "\n",
    "#imputing the data\n",
    "\n",
    "x=imputer.transform(x)\n",
    "print(\"imputed data: \",x)"
   ]
  },
  {
   "cell_type": "code",
   "execution_count": null,
   "id": "29ad5031",
   "metadata": {},
   "outputs": [],
   "source": [
    "# Handle Categorical data\n",
    "#no categoriacl data is present"
   ]
  },
  {
   "cell_type": "code",
   "execution_count": 20,
   "id": "90810eec",
   "metadata": {},
   "outputs": [
    {
     "data": {
      "text/plain": [
       "array([[-0.93983965],\n",
       "       [-0.82977725],\n",
       "       [ 1.56875244],\n",
       "       ...,\n",
       "       [ 0.90422473],\n",
       "       [-0.05103384],\n",
       "       [-0.67402857]])"
      ]
     },
     "execution_count": 20,
     "metadata": {},
     "output_type": "execute_result"
    }
   ],
   "source": [
    "\n",
    "#feature scaling \n",
    "from sklearn.preprocessing import StandardScaler\n",
    "sc=StandardScaler()\n",
    "x=sc.fit_transform(x)\n",
    "x"
   ]
  },
  {
   "cell_type": "code",
   "execution_count": 22,
   "id": "408cfba5",
   "metadata": {},
   "outputs": [
    {
     "name": "stdout",
     "output_type": "stream",
     "text": [
      "x train dataset (3450, 1) \n",
      "\n",
      "x test dataset (1151, 1) \n",
      "\n",
      "y train dataset (3450,) \n",
      "\n",
      "y test dataset (1151,) \n",
      "\n"
     ]
    }
   ],
   "source": [
    "\n",
    "#splitting the in two part for traing and testing\n",
    "\n",
    "from sklearn.model_selection import train_test_split\n",
    "x_train,x_test,y_train,y_test=train_test_split(x,y,test_size=0.25,random_state=0)\n",
    "print(f'x train dataset {x_train.shape}',\"\\n\")\n",
    "print(f'x test dataset {x_test.shape}',\"\\n\")\n",
    "print(f'y train dataset {y_train.shape}',\"\\n\")\n",
    "print(f'y test dataset {y_test.shape}',\"\\n\")"
   ]
  },
  {
   "cell_type": "code",
   "execution_count": 24,
   "id": "6dc79657",
   "metadata": {},
   "outputs": [],
   "source": [
    "#train and predict\n",
    "\n",
    "#trqain the data with machine learning algorithms\n",
    "\n",
    "from sklearn.linear_model import LinearRegression\n",
    "lr=LinearRegression()\n",
    "lr.fit(x_train,y_train)\n",
    "\n",
    "#predict the data with test samples\n",
    "y_pred=lr.predict(x_test)"
   ]
  },
  {
   "cell_type": "code",
   "execution_count": 25,
   "id": "6009e354",
   "metadata": {},
   "outputs": [
    {
     "data": {
      "image/png": "[encoded data removed]",
      "text/plain": [
       "<Figure size 432x288 with 1 Axes>"
      ]
     },
     "metadata": {
      "needs_background": "light"
     },
     "output_type": "display_data"
    }
   ],
   "source": [
    "#model visualization\n",
    "#traing set points\n",
    "plt.scatter(x_train,y_train,color=\"orange\")\n",
    "plt.title(\"square fit vs price\")\n",
    "plt.xlabel(\"square fit\")\n",
    "plt.ylabel(\"price\")\n",
    "plt.show()"
   ]
  },
  {
   "cell_type": "code",
   "execution_count": 27,
   "id": "7fd4261b",
   "metadata": {},
   "outputs": [
    {
     "data": {
      "image/png": "[encoded data removed]",
      "text/plain": [
       "<Figure size 432x288 with 1 Axes>"
      ]
     },
     "metadata": {
      "needs_background": "light"
     },
     "output_type": "display_data"
    }
   ],
   "source": [
    "#traing set points\n",
    "plt.scatter(x_test,y_test,color=\"green\")\n",
    "plt.title(\"square fit vs price\")\n",
    "plt.xlabel(\"square fit\")\n",
    "plt.ylabel(\"price\")\n",
    "plt.show()"
   ]
  },
  {
   "cell_type": "code",
   "execution_count": 28,
   "id": "cf012225",
   "metadata": {},
   "outputs": [
    {
     "data": {
      "image/png": "[encoded data removed]",
      "text/plain": [
       "<Figure size 432x288 with 1 Axes>"
      ]
     },
     "metadata": {
      "needs_background": "light"
     },
     "output_type": "display_data"
    }
   ],
   "source": [
    "#plot LR(linear regression model ) to the training set.\n",
    "\n",
    "plt.scatter(x_train,y_train,color=\"lightseagreen\")\n",
    "plt.plot(x_train,lr.predict(x_train),color=\"red\")\n",
    "plt.title(\"square fit vs price (traing set)\")\n",
    "plt.xlabel(\"square fit\")\n",
    "plt.ylabel(\"price\")\n",
    "plt.show()"
   ]
  },
  {
   "cell_type": "code",
   "execution_count": 30,
   "id": "18ab2afa",
   "metadata": {},
   "outputs": [
    {
     "data": {
      "image/png": "[encoded data removed]",
      "text/plain": [
       "<Figure size 432x288 with 1 Axes>"
      ]
     },
     "metadata": {
      "needs_background": "light"
     },
     "output_type": "display_data"
    }
   ],
   "source": [
    "#plot LR(linear regression model ) to the testing set.\n",
    "\n",
    "plt.scatter(x_test,y_test,color=\"purple\")\n",
    "plt.plot(x_train,lr.predict(x_train),color=\"red\")\n",
    "plt.title(\"square fit vs price (testing set)\")\n",
    "plt.xlabel(\"square fit\")\n",
    "plt.ylabel(\"price\")\n",
    "plt.show()"
   ]
  },
  {
   "cell_type": "code",
   "execution_count": 38,
   "id": "2bc4bc00",
   "metadata": {},
   "outputs": [
    {
     "name": "stdout",
     "output_type": "stream",
     "text": [
      "Linear Regression\n",
      "attribute : intr_ 557176.4513770333\n",
      "attribute : coef_ [231747.34234645]\n",
      "Mean Absolute error :  176294.6587950178\n",
      "Mean Squared Error : 72343755805.45044\n",
      "Root MSE :  419.8745750757216\n",
      "R-square :  0.484329177844267\n",
      "Adjusted R-Square 0.4842170511162487\n"
     ]
    }
   ],
   "source": [
    "#print the model evaluation result\n",
    "import sklearn.metrics as metrics\n",
    "\n",
    "print(\"Linear Regression\")\n",
    "print(\"attribute : intr_\",lr.intercept_)\n",
    "print(\"attribute : coef_\",lr.coef_)\n",
    "print('Mean Absolute error : ',metrics.mean_absolute_error(y_test,y_pred))\n",
    "print('Mean Squared Error :', metrics.mean_squared_error(y_test, y_pred))\n",
    "print(\"Root MSE : \",np.sqrt(metrics.mean_absolute_error(y_test, y_pred)))\n",
    "print(\"R-square : \",metrics.r2_score(y_test, y_pred))\n",
    "r_square = metrics.r2_score(y_test, y_pred)\n",
    "print(\"Adjusted R-Square\",(1 - (1-r_square)*(len(df) - 1) / (len(df) - (df.shape[1] - 1) - 1)))\n"
   ]
  },
  {
   "cell_type": "code",
   "execution_count": null,
   "id": "d90bcdf6",
   "metadata": {},
   "outputs": [],
   "source": []
  }
 ],
 "metadata": {
  "kernelspec": {
   "display_name": "Python 3 (ipykernel)",
   "language": "python",
   "name": "python3"
  },
  "language_info": {
   "codemirror_mode": {
    "name": "ipython",
    "version": 3
   },
   "file_extension": ".py",
   "mimetype": "text/x-python",
   "name": "python",
   "nbconvert_exporter": "python",
   "pygments_lexer": "ipython3",
   "version": "3.9.12"
  }
 },
 "nbformat": 4,
 "nbformat_minor": 5
}
