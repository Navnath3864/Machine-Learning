{
 "cells": [
  {
   "cell_type": "code",
   "execution_count": 8,
   "id": "5d77aad9",
   "metadata": {},
   "outputs": [],
   "source": [
    "#import libraries\n",
    "import numpy as np\n",
    "import pandas as pd\n",
    "import matplotlib.pyplot as plt\n",
    "from sklearn import datasets \n",
    "\n",
    "import seaborn as sns\n",
    "from sklearn.naive_bayes import GaussianNB\n",
    "from sklearn.preprocessing import StandardScaler\n",
    "from sklearn.model_selection import train_test_split\n",
    "from sklearn import metrics"
   ]
  },
  {
   "cell_type": "code",
   "execution_count": 9,
   "id": "4cfce976",
   "metadata": {},
   "outputs": [],
   "source": [
    "#load the data\n",
    "df_iris=datasets.load_iris()\n"
   ]
  },
  {
   "cell_type": "code",
   "execution_count": 10,
   "id": "077fbabc",
   "metadata": {},
   "outputs": [
    {
     "data": {
      "text/plain": [
       "dict_keys(['data', 'target', 'frame', 'target_names', 'DESCR', 'feature_names', 'filename', 'data_module'])"
      ]
     },
     "execution_count": 10,
     "metadata": {},
     "output_type": "execute_result"
    }
   ],
   "source": [
    "#top view: information about the datasets\n",
    "df_iris.keys()"
   ]
  },
  {
   "cell_type": "code",
   "execution_count": 4,
   "id": "527f799f",
   "metadata": {},
   "outputs": [
    {
     "data": {
      "text/plain": [
       "array(['setosa', 'versicolor', 'virginica'], dtype='<U10')"
      ]
     },
     "execution_count": 4,
     "metadata": {},
     "output_type": "execute_result"
    }
   ],
   "source": [
    "df_iris.target_names"
   ]
  },
  {
   "cell_type": "code",
   "execution_count": 5,
   "id": "5503a954",
   "metadata": {},
   "outputs": [
    {
     "name": "stdout",
     "output_type": "stream",
     "text": [
      "[4.9 3.  1.4 0.2]\n"
     ]
    }
   ],
   "source": [
    "#lets see all the label categories of the dataset-new group\n",
    "df_iris.target_names\n",
    "print(df_iris.data[1])"
   ]
  },
  {
   "cell_type": "code",
   "execution_count": 6,
   "id": "847da26e",
   "metadata": {},
   "outputs": [
    {
     "data": {
      "text/plain": [
       "['sepal length (cm)',\n",
       " 'sepal width (cm)',\n",
       " 'petal length (cm)',\n",
       " 'petal width (cm)']"
      ]
     },
     "execution_count": 6,
     "metadata": {},
     "output_type": "execute_result"
    }
   ],
   "source": [
    "#feature names of iris dataset\n",
    "df_iris.feature_names"
   ]
  },
  {
   "cell_type": "code",
   "execution_count": 11,
   "id": "f17e23bf",
   "metadata": {},
   "outputs": [],
   "source": [
    "#get the data value in seperate variable \n",
    "x_train=df_iris.data\n",
    "y_train=df_iris.target"
   ]
  },
  {
   "cell_type": "code",
   "execution_count": 12,
   "id": "e7dc62c2",
   "metadata": {},
   "outputs": [],
   "source": [
    "#data encoding in preprocessing\n",
    "en_sc=StandardScaler()\n",
    "x_train=en_sc.fit_transform(x_train)"
   ]
  },
  {
   "cell_type": "code",
   "execution_count": 15,
   "id": "6b8b4413",
   "metadata": {},
   "outputs": [],
   "source": [
    "#split the data into train and test part\n",
    "x_train,x_test,y_train,y_test= train_test_split(x_train,y_train,test_size=0.25,random_state=5)"
   ]
  },
  {
   "cell_type": "code",
   "execution_count": 16,
   "id": "89a91622",
   "metadata": {},
   "outputs": [],
   "source": [
    "#getv the model to \n",
    "model=GaussianNB()"
   ]
  },
  {
   "cell_type": "code",
   "execution_count": 21,
   "id": "825dd942",
   "metadata": {},
   "outputs": [
    {
     "data": {
      "text/plain": [
       "GaussianNB()"
      ]
     },
     "execution_count": 21,
     "metadata": {},
     "output_type": "execute_result"
    }
   ],
   "source": [
    "#train the using x_train,y_train values\n",
    "model.fit(x_train,y_train)"
   ]
  },
  {
   "cell_type": "code",
   "execution_count": 22,
   "id": "a1dd7ca7",
   "metadata": {},
   "outputs": [],
   "source": [
    "#get the testing data and predict it \n",
    "labels=model.predict(x_test)"
   ]
  },
  {
   "cell_type": "code",
   "execution_count": 23,
   "id": "128b7d86",
   "metadata": {},
   "outputs": [
    {
     "name": "stdout",
     "output_type": "stream",
     "text": [
      "Accuracy:  0.9285714285714286\n"
     ]
    }
   ],
   "source": [
    "#task : try to increse accurecy of the model\n",
    "#test the model\n",
    "\n",
    "cm=metrics.confusion_matrix(y_test,labels)\n",
    "print(\"Accuracy: \",metrics.accuracy_score(y_test,labels))"
   ]
  },
  {
   "cell_type": "code",
   "execution_count": 27,
   "id": "b6b06176",
   "metadata": {},
   "outputs": [
    {
     "data": {
      "text/plain": [
       "Text(91.68, 0.5, 'predicted labels')"
      ]
     },
     "execution_count": 27,
     "metadata": {},
     "output_type": "execute_result"
    },
    {
     "data": {
      "image/png": "[encoded data removed]",
      "text/plain": [
       "<Figure size 432x288 with 1 Axes>"
      ]
     },
     "metadata": {
      "needs_background": "light"
     },
     "output_type": "display_data"
    }
   ],
   "source": [
    "#visual the confusion matrics using heatmap graph\n",
    "sns.heatmap(cm.T,square=True,annot=True,fmt='d',cbar=False,\n",
    "            xticklabels=df_iris.target_names,\n",
    "            yticklabels=df_iris.target_names)\n",
    "plt.xlabel(\"True labels\")\n",
    "plt.ylabel(\"predicted labels\")"
   ]
  },
  {
   "cell_type": "code",
   "execution_count": null,
   "id": "8c5ac999",
   "metadata": {},
   "outputs": [],
   "source": []
  }
 ],
 "metadata": {
  "kernelspec": {
   "display_name": "Python 3 (ipykernel)",
   "language": "python",
   "name": "python3"
  },
  "language_info": {
   "codemirror_mode": {
    "name": "ipython",
    "version": 3
   },
   "file_extension": ".py",
   "mimetype": "text/x-python",
   "name": "python",
   "nbconvert_exporter": "python",
   "pygments_lexer": "ipython3",
   "version": "3.9.12"
  }
 },
 "nbformat": 4,
 "nbformat_minor": 5
}
