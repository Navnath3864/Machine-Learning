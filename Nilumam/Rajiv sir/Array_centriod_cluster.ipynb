{
 "cells": [
  {
   "cell_type": "code",
   "execution_count": 1,
   "id": "a8c74d2e",
   "metadata": {},
   "outputs": [],
   "source": [
    "#import libraries\n",
    "import numpy as np\n",
    "import pandas as pd\n",
    "import matplotlib.pyplot as plt\n",
    "plt.style.use(\"bmh\") #gg plots\n",
    "from sklearn.cluster import KMeans\n"
   ]
  },
  {
   "cell_type": "code",
   "execution_count": 2,
   "id": "0905dc7f",
   "metadata": {},
   "outputs": [
    {
     "data": {
      "text/plain": [
       "array([1. , 6. , 1.5, 7.6, 1. , 9. , 7.5, 2.5, 2. , 1.8, 1.5, 1.5, 2.2,\n",
       "       7. , 8. , 8.8, 7.5, 8.5])"
      ]
     },
     "execution_count": 2,
     "metadata": {},
     "output_type": "execute_result"
    }
   ],
   "source": [
    "#load dataset or create a datsa set\n",
    "x=np.array([1, 6, 1.5, 7.6, 1, 9, 7.5, 2.5, 2, 1.8, 1.5, 1.5, 2.2, 7, 8, 8.8, 7.5, 8.5])\n",
    "y=np.array([2, 8, 2.8, 7.7, 0.6, 10, 9, 1.2, 1, 1.5, 1.4, 0.5, 2, 8, 10, 8, 6.5, 9])\n",
    "x\n",
    "\n"
   ]
  },
  {
   "cell_type": "code",
   "execution_count": 3,
   "id": "a1eb6be2",
   "metadata": {},
   "outputs": [
    {
     "data": {
      "text/plain": [
       "array([ 2. ,  8. ,  2.8,  7.7,  0.6, 10. ,  9. ,  1.2,  1. ,  1.5,  1.4,\n",
       "        0.5,  2. ,  8. , 10. ,  8. ,  6.5,  9. ])"
      ]
     },
     "execution_count": 3,
     "metadata": {},
     "output_type": "execute_result"
    }
   ],
   "source": [
    "y"
   ]
  },
  {
   "cell_type": "code",
   "execution_count": 4,
   "id": "bc3970ac",
   "metadata": {},
   "outputs": [
    {
     "data": {
      "image/png": "[encoded data removed]",
      "text/plain": [
       "<Figure size 432x288 with 1 Axes>"
      ]
     },
     "metadata": {
      "needs_background": "light"
     },
     "output_type": "display_data"
    }
   ],
   "source": [
    "plt.scatter(x,y)\n",
    "plt.show()"
   ]
  },
  {
   "cell_type": "code",
   "execution_count": 5,
   "id": "b51bd4d6",
   "metadata": {},
   "outputs": [],
   "source": [
    "# print x-axis and y-axis of the matrix\n",
    "\n",
    "\n",
    "# `ultimately we are focusing on column index'\n",
    "x = np.array([[1, 2],[6, 8],[1.5, 2.8],[7.6, 7.7],[1, 0.6],[9, 10],[7.5, 9],[2.5, 1.2],[2, 1],[1.8, 1.5],[1.5, 1.4],[1.5, 0.5],[2.2, 2],[7, 8],[8, 10],[8.8, 8],[7.5, 6.5],[8.5, 9]])"
   ]
  },
  {
   "cell_type": "code",
   "execution_count": 6,
   "id": "8d7b034f",
   "metadata": {},
   "outputs": [
    {
     "name": "stdout",
     "output_type": "stream",
     "text": [
      "[1.  6.  1.5 7.6 1.  9.  7.5 2.5 2.  1.8 1.5 1.5 2.2 7.  8.  8.8 7.5 8.5]\n",
      "[ 2.   8.   2.8  7.7  0.6 10.   9.   1.2  1.   1.5  1.4  0.5  2.   8.\n",
      " 10.   8.   6.5  9. ]\n"
     ]
    }
   ],
   "source": [
    "#print the first axis as x-axis\n",
    "print(x[:,0])\n",
    "#print the second axis as y-axis\n",
    "print(x[:,1])"
   ]
  },
  {
   "cell_type": "code",
   "execution_count": 7,
   "id": "f9c41347",
   "metadata": {},
   "outputs": [
    {
     "name": "stdout",
     "output_type": "stream",
     "text": [
      "center: [[1.66666667 1.44444444]\n",
      " [7.025      7.55      ]\n",
      " [8.36       9.2       ]]\n",
      "labels: [0 1 0 1 0 2 2 0 0 0 0 0 0 1 2 2 1 2]\n"
     ]
    }
   ],
   "source": [
    "kmeans=KMeans(n_clusters=3)\n",
    "kmeans.fit(x)\n",
    "centroids=kmeans.cluster_centers_\n",
    "labels=kmeans.labels_\n",
    "print(\"center:\",centroids)\n",
    "print(\"labels:\",labels)"
   ]
  },
  {
   "cell_type": "code",
   "execution_count": 8,
   "id": "cdd2e6d3",
   "metadata": {},
   "outputs": [
    {
     "data": {
      "text/plain": [
       "array([1.44444444, 7.55      , 9.2       ])"
      ]
     },
     "execution_count": 8,
     "metadata": {},
     "output_type": "execute_result"
    }
   ],
   "source": [
    "centroids[:,1]"
   ]
  },
  {
   "cell_type": "code",
   "execution_count": 9,
   "id": "2bd134a6",
   "metadata": {},
   "outputs": [
    {
     "name": "stdout",
     "output_type": "stream",
     "text": [
      "co-Ordinate: [1. 2.] labels: 0\n",
      "co-Ordinate: [6. 8.] labels: 1\n",
      "co-Ordinate: [1.5 2.8] labels: 0\n",
      "co-Ordinate: [7.6 7.7] labels: 1\n",
      "co-Ordinate: [1.  0.6] labels: 0\n",
      "co-Ordinate: [ 9. 10.] labels: 2\n",
      "co-Ordinate: [7.5 9. ] labels: 2\n",
      "co-Ordinate: [2.5 1.2] labels: 0\n",
      "co-Ordinate: [2. 1.] labels: 0\n",
      "co-Ordinate: [1.8 1.5] labels: 0\n",
      "co-Ordinate: [1.5 1.4] labels: 0\n",
      "co-Ordinate: [1.5 0.5] labels: 0\n",
      "co-Ordinate: [2.2 2. ] labels: 0\n",
      "co-Ordinate: [7. 8.] labels: 1\n",
      "co-Ordinate: [ 8. 10.] labels: 2\n",
      "co-Ordinate: [8.8 8. ] labels: 2\n",
      "co-Ordinate: [7.5 6.5] labels: 1\n",
      "co-Ordinate: [8.5 9. ] labels: 2\n"
     ]
    },
    {
     "data": {
      "image/png": "[encoded data removed]",
      "text/plain": [
       "<Figure size 432x288 with 1 Axes>"
      ]
     },
     "metadata": {
      "needs_background": "light"
     },
     "output_type": "display_data"
    }
   ],
   "source": [
    "colors=[\"g.\",\"r.\",\"c\",\"y.\"]\n",
    "for i in range(len(x)):\n",
    "    print(\"co-Ordinate:\",x[i],\"labels:\",labels[i])\n",
    "    \n",
    "    #plot the point one by one on the graph\n",
    "    plt.plot(x[i][0],x[i,1],colors[labels[i]],markersize=20)\n",
    "    plt.scatter(centroids[:,0],centroids[:,1],marker=\"x\",s=150,linewidths=5,zorder=10)\n",
    "    "
   ]
  },
  {
   "cell_type": "code",
   "execution_count": null,
   "id": "41582d01",
   "metadata": {},
   "outputs": [],
   "source": []
  }
 ],
 "metadata": {
  "kernelspec": {
   "display_name": "Python 3 (ipykernel)",
   "language": "python",
   "name": "python3"
  },
  "language_info": {
   "codemirror_mode": {
    "name": "ipython",
    "version": 3
   },
   "file_extension": ".py",
   "mimetype": "text/x-python",
   "name": "python",
   "nbconvert_exporter": "python",
   "pygments_lexer": "ipython3",
   "version": "3.9.12"
  }
 },
 "nbformat": 4,
 "nbformat_minor": 5
}
