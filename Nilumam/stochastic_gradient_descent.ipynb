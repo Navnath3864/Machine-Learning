{
 "cells": [
  {
   "cell_type": "code",
   "execution_count": 1,
   "id": "cd1cbe3b",
   "metadata": {},
   "outputs": [],
   "source": [
    "import pandas as pd\n",
    "import numpy as np\n",
    "import matplotlib.pyplot as plt"
   ]
  },
  {
   "cell_type": "code",
   "execution_count": 2,
   "id": "57bca56d",
   "metadata": {},
   "outputs": [
    {
     "data": {
      "text/html": [
       "<div>\n",
       "<style scoped>\n",
       "    .dataframe tbody tr th:only-of-type {\n",
       "        vertical-align: middle;\n",
       "    }\n",
       "\n",
       "    .dataframe tbody tr th {\n",
       "        vertical-align: top;\n",
       "    }\n",
       "\n",
       "    .dataframe thead th {\n",
       "        text-align: right;\n",
       "    }\n",
       "</style>\n",
       "<table border=\"1\" class=\"dataframe\">\n",
       "  <thead>\n",
       "    <tr style=\"text-align: right;\">\n",
       "      <th></th>\n",
       "      <th>sqft_living</th>\n",
       "      <th>price</th>\n",
       "    </tr>\n",
       "  </thead>\n",
       "  <tbody>\n",
       "    <tr>\n",
       "      <th>0</th>\n",
       "      <td>1234</td>\n",
       "      <td>1.300000e+07</td>\n",
       "    </tr>\n",
       "    <tr>\n",
       "      <th>1</th>\n",
       "      <td>1340</td>\n",
       "      <td>3.130000e+05</td>\n",
       "    </tr>\n",
       "    <tr>\n",
       "      <th>2</th>\n",
       "      <td>3650</td>\n",
       "      <td>2.384000e+06</td>\n",
       "    </tr>\n",
       "    <tr>\n",
       "      <th>3</th>\n",
       "      <td>1930</td>\n",
       "      <td>3.420000e+05</td>\n",
       "    </tr>\n",
       "    <tr>\n",
       "      <th>4</th>\n",
       "      <td>2000</td>\n",
       "      <td>4.200000e+05</td>\n",
       "    </tr>\n",
       "    <tr>\n",
       "      <th>...</th>\n",
       "      <td>...</td>\n",
       "      <td>...</td>\n",
       "    </tr>\n",
       "    <tr>\n",
       "      <th>4596</th>\n",
       "      <td>1510</td>\n",
       "      <td>3.081667e+05</td>\n",
       "    </tr>\n",
       "    <tr>\n",
       "      <th>4597</th>\n",
       "      <td>1460</td>\n",
       "      <td>5.343333e+05</td>\n",
       "    </tr>\n",
       "    <tr>\n",
       "      <th>4598</th>\n",
       "      <td>3010</td>\n",
       "      <td>4.169042e+05</td>\n",
       "    </tr>\n",
       "    <tr>\n",
       "      <th>4599</th>\n",
       "      <td>2090</td>\n",
       "      <td>2.034000e+05</td>\n",
       "    </tr>\n",
       "    <tr>\n",
       "      <th>4600</th>\n",
       "      <td>1490</td>\n",
       "      <td>2.206000e+05</td>\n",
       "    </tr>\n",
       "  </tbody>\n",
       "</table>\n",
       "<p>4601 rows × 2 columns</p>\n",
       "</div>"
      ],
      "text/plain": [
       "      sqft_living         price\n",
       "0            1234  1.300000e+07\n",
       "1            1340  3.130000e+05\n",
       "2            3650  2.384000e+06\n",
       "3            1930  3.420000e+05\n",
       "4            2000  4.200000e+05\n",
       "...           ...           ...\n",
       "4596         1510  3.081667e+05\n",
       "4597         1460  5.343333e+05\n",
       "4598         3010  4.169042e+05\n",
       "4599         2090  2.034000e+05\n",
       "4600         1490  2.206000e+05\n",
       "\n",
       "[4601 rows x 2 columns]"
      ]
     },
     "execution_count": 2,
     "metadata": {},
     "output_type": "execute_result"
    }
   ],
   "source": [
    "# load the data\n",
    "df=pd.read_csv(\"/home/osboxes/Desktop/housingShort_data.csv\")\n",
    "df"
   ]
  },
  {
   "cell_type": "code",
   "execution_count": 3,
   "id": "37308989",
   "metadata": {},
   "outputs": [],
   "source": [
    "#extract the variables\n",
    "x=df.iloc[:,:-1].values\n",
    "y=df.iloc[:,1].values"
   ]
  },
  {
   "cell_type": "code",
   "execution_count": 4,
   "id": "9b163424",
   "metadata": {},
   "outputs": [
    {
     "data": {
      "text/plain": [
       "array([[1234],\n",
       "       [1340],\n",
       "       [3650],\n",
       "       ...,\n",
       "       [3010],\n",
       "       [2090],\n",
       "       [1490]])"
      ]
     },
     "execution_count": 4,
     "metadata": {},
     "output_type": "execute_result"
    }
   ],
   "source": [
    "x"
   ]
  },
  {
   "cell_type": "code",
   "execution_count": 5,
   "id": "8d33e066",
   "metadata": {},
   "outputs": [
    {
     "data": {
      "text/plain": [
       "array([13000000.    ,   313000.    ,  2384000.    , ...,   416904.1667,\n",
       "         203400.    ,   220600.    ])"
      ]
     },
     "execution_count": 5,
     "metadata": {},
     "output_type": "execute_result"
    }
   ],
   "source": [
    "y"
   ]
  },
  {
   "cell_type": "code",
   "execution_count": 6,
   "id": "c3a6edd4",
   "metadata": {},
   "outputs": [
    {
     "name": "stdout",
     "output_type": "stream",
     "text": [
      "NaN value avialbel in the dataset is : False\n",
      "sum of num values are:  sqft_living    0\n",
      "price          0\n",
      "dtype: int64\n"
     ]
    }
   ],
   "source": [
    "print(\"NaN value avialbel in the dataset is :\",df.isnull().values.any())\n",
    "print(\"sum of num values are: \",df.isnull().sum())"
   ]
  },
  {
   "cell_type": "code",
   "execution_count": 7,
   "id": "b2139831",
   "metadata": {},
   "outputs": [],
   "source": [
    "#handing the missing data \n",
    "#there is no missing data\n"
   ]
  },
  {
   "cell_type": "code",
   "execution_count": 8,
   "id": "eec0d9b8",
   "metadata": {},
   "outputs": [],
   "source": [
    "#handle categorical data\n",
    "#there is no categoriacl data\n"
   ]
  },
  {
   "cell_type": "code",
   "execution_count": 9,
   "id": "eac6e215",
   "metadata": {},
   "outputs": [
    {
     "data": {
      "text/plain": [
       "array([[-0.93983965],\n",
       "       [-0.82977725],\n",
       "       [ 1.56875244],\n",
       "       ...,\n",
       "       [ 0.90422473],\n",
       "       [-0.05103384],\n",
       "       [-0.67402857]])"
      ]
     },
     "execution_count": 9,
     "metadata": {},
     "output_type": "execute_result"
    }
   ],
   "source": [
    "#feature scaling data\n",
    "from sklearn.preprocessing import StandardScaler\n",
    "en_sc=StandardScaler()\n",
    "x=en_sc.fit_transform(x)\n",
    "x"
   ]
  },
  {
   "cell_type": "code",
   "execution_count": 13,
   "id": "da1dc34d",
   "metadata": {},
   "outputs": [],
   "source": [
    "#spliting the dataset\n",
    "from sklearn.model_selection import train_test_split\n",
    "x_train,x_test,y_train,y_test=train_test_split(x,y,test_size=0.25,random_state=0)"
   ]
  },
  {
   "cell_type": "code",
   "execution_count": 14,
   "id": "ff72ab8f",
   "metadata": {},
   "outputs": [
    {
     "data": {
      "text/plain": [
       "array([[-1.38008926],\n",
       "       [-1.07897514],\n",
       "       [ 0.62387711],\n",
       "       ...,\n",
       "       [ 0.55638601],\n",
       "       [-0.10295007],\n",
       "       [ 4.06073134]])"
      ]
     },
     "execution_count": 14,
     "metadata": {},
     "output_type": "execute_result"
    }
   ],
   "source": [
    "x_train"
   ]
  },
  {
   "cell_type": "code",
   "execution_count": 15,
   "id": "dd9e5c8e",
   "metadata": {},
   "outputs": [
    {
     "data": {
      "text/plain": [
       "array([[-0.50789664],\n",
       "       [ 0.69655983],\n",
       "       [-0.14448305],\n",
       "       ...,\n",
       "       [-0.31061498],\n",
       "       [-0.14967467],\n",
       "       [-0.48713015]])"
      ]
     },
     "execution_count": 15,
     "metadata": {},
     "output_type": "execute_result"
    }
   ],
   "source": [
    "x_test"
   ]
  },
  {
   "cell_type": "code",
   "execution_count": 16,
   "id": "506796be",
   "metadata": {},
   "outputs": [
    {
     "data": {
      "text/plain": [
       "array([ 206000.,  250000., 1105000., ...,  660000.,  335000., 1600000.])"
      ]
     },
     "execution_count": 16,
     "metadata": {},
     "output_type": "execute_result"
    }
   ],
   "source": [
    "y_train"
   ]
  },
  {
   "cell_type": "code",
   "execution_count": 17,
   "id": "e9378a36",
   "metadata": {},
   "outputs": [
    {
     "data": {
      "text/plain": [
       "array([219950., 825000., 415000., ..., 265000., 266000., 533000.])"
      ]
     },
     "execution_count": 17,
     "metadata": {},
     "output_type": "execute_result"
    }
   ],
   "source": [
    "y_test"
   ]
  },
  {
   "cell_type": "code",
   "execution_count": 18,
   "id": "5ec3bbbb",
   "metadata": {},
   "outputs": [
    {
     "name": "stdout",
     "output_type": "stream",
     "text": [
      "x_train dataset:(3450, 1) \n",
      "\n",
      "x_test dataset:(1151, 1) \n",
      "\n",
      "y_train dataset:(3450,) \n",
      "\n",
      "y_test dataset:(1151,) \n",
      "\n"
     ]
    }
   ],
   "source": [
    "print(f'x_train dataset:{ x_train.shape }',\"\\n\")\n",
    "print(f'x_test dataset:{ x_test.shape }',\"\\n\")\n",
    "print(f'y_train dataset:{ y_train.shape }',\"\\n\")\n",
    "print(f'y_test dataset:{ y_test.shape }',\"\\n\")\n"
   ]
  },
  {
   "cell_type": "code",
   "execution_count": 19,
   "id": "44df8c8e",
   "metadata": {},
   "outputs": [
    {
     "data": {
      "text/plain": [
       "SGDRegressor()"
      ]
     },
     "execution_count": 19,
     "metadata": {},
     "output_type": "execute_result"
    }
   ],
   "source": [
    "#train the machine learning model \n",
    "from sklearn.linear_model import SGDRegressor\n",
    "sgd=SGDRegressor(max_iter=1000,tol=1e-3)\n",
    "sgd.fit(x_train,y_train)"
   ]
  },
  {
   "cell_type": "code",
   "execution_count": 20,
   "id": "52355c70",
   "metadata": {},
   "outputs": [],
   "source": [
    "#predict the data with test sample\n",
    "y_pred=sgd.predict(x_test)"
   ]
  },
  {
   "cell_type": "code",
   "execution_count": 22,
   "id": "221b1e68",
   "metadata": {},
   "outputs": [
    {
     "data": {
      "image/png": "[encoded data removed]",
      "text/plain": [
       "<Figure size 432x288 with 1 Axes>"
      ]
     },
     "metadata": {
      "needs_background": "light"
     },
     "output_type": "display_data"
    }
   ],
   "source": [
    "#model visualiztion\n",
    "\n",
    "#training set point\n",
    "plt.scatter(x_train,y_train,color='orange')\n",
    "plt.title(\"square fit vs price(traing set)\")\n",
    "plt.xlabel(\"square/fit\")\n",
    "plt.ylabel(\"price\")\n",
    "plt.show()"
   ]
  },
  {
   "cell_type": "code",
   "execution_count": 28,
   "id": "e1023e9b",
   "metadata": {},
   "outputs": [
    {
     "name": "stdout",
     "output_type": "stream",
     "text": [
      "linear regression\n",
      "Attribute : intr_ [563009.58700846]\n",
      "attribute : coef_ [237117.03747521]\n",
      "mean Absolute error:  177395.8912180266\n",
      "mean Squared error:  72167915289.95155\n",
      "root MSE: 421.1839161435615\n",
      "R-square:  0.48558258005135524\n",
      "Ajusted R-squared: 0.4854707258613251\n"
     ]
    }
   ],
   "source": [
    "#model visualiztion\n",
    "import sklearn.metrics as metrics\n",
    "\n",
    "#print the model visualiztion result\n",
    "print(\"linear regression\")\n",
    "print(\"Attribute : intr_\",sgd.intercept_)\n",
    "print(\"attribute : coef_\",sgd.coef_)\n",
    "print(\"mean Absolute error: \",metrics.mean_absolute_error(y_test,y_pred))\n",
    "print(\"mean Squared error: \",metrics.mean_squared_error(y_test,y_pred))\n",
    "print(\"root MSE:\",np.sqrt(metrics.mean_absolute_error(y_test,y_pred)))\n",
    "print(\"R-square: \",metrics.r2_score(y_test,y_pred))\n",
    "r_square=metrics.r2_score(y_test,y_pred)\n",
    "print(\"Ajusted R-squared:\",(1-(1-r_square)*(len(df)-1)/(len(df)-(df.shape[1]-1)-1)))"
   ]
  },
  {
   "cell_type": "code",
   "execution_count": 45,
   "id": "d4aeca50",
   "metadata": {},
   "outputs": [
    {
     "ename": "ImportError",
     "evalue": "cannot import name 'PolynomialFeature' from 'sklearn.preprocessing' (/home/osboxes/anaconda3/lib/python3.9/site-packages/sklearn/preprocessing/__init__.py)",
     "output_type": "error",
     "traceback": [
      "\u001b[0;31m---------------------------------------------------------------------------\u001b[0m",
      "\u001b[0;31mImportError\u001b[0m                               Traceback (most recent call last)",
      "Input \u001b[0;32mIn [45]\u001b[0m, in \u001b[0;36m<cell line: 2>\u001b[0;34m()\u001b[0m\n\u001b[1;32m      1\u001b[0m \u001b[38;5;66;03m#source code for under fitting\u001b[39;00m\n\u001b[0;32m----> 2\u001b[0m \u001b[38;5;28;01mfrom\u001b[39;00m \u001b[38;5;21;01msklearn\u001b[39;00m\u001b[38;5;21;01m.\u001b[39;00m\u001b[38;5;21;01mpreprocessing\u001b[39;00m \u001b[38;5;28;01mimport\u001b[39;00m PolynomialFeature\n\u001b[1;32m      3\u001b[0m poly\u001b[38;5;241m=\u001b[39mPolynomialFeature(degree\u001b[38;5;241m=\u001b[39m\u001b[38;5;241m1\u001b[39m)\n\u001b[1;32m      4\u001b[0m x_poly\u001b[38;5;241m=\u001b[39mpoly\u001b[38;5;241m.\u001b[39mfit_transform(x_train)\n",
      "\u001b[0;31mImportError\u001b[0m: cannot import name 'PolynomialFeature' from 'sklearn.preprocessing' (/home/osboxes/anaconda3/lib/python3.9/site-packages/sklearn/preprocessing/__init__.py)"
     ]
    }
   ],
   "source": [
    "\n",
    "#source code for under fitting\n",
    "from sklearn.preprocessing import PolynomialFeature\n",
    "poly=PolynomialFeature(degree=1)\n",
    "x_poly=poly.fit_transform(x_train)\n",
    "poly.fit(x_train,y_train)\n",
    "\n",
    "linreg=LinearRegression()\n",
    "linreg.fit(x_poly,y_train)\n",
    "\n",
    "plt.scatter(x_train,y_train,color='green')\n",
    "plt.plot(x_train,y_pred,color='purple')\n",
    "plt.scatter(x_test,y_test,color='red')\n"
   ]
  },
  {
   "cell_type": "code",
   "execution_count": null,
   "id": "1dc464b4",
   "metadata": {},
   "outputs": [],
   "source": []
  },
  {
   "cell_type": "code",
   "execution_count": null,
   "id": "37dad075",
   "metadata": {},
   "outputs": [],
   "source": []
  }
 ],
 "metadata": {
  "kernelspec": {
   "display_name": "Python 3 (ipykernel)",
   "language": "python",
   "name": "python3"
  },
  "language_info": {
   "codemirror_mode": {
    "name": "ipython",
    "version": 3
   },
   "file_extension": ".py",
   "mimetype": "text/x-python",
   "name": "python",
   "nbconvert_exporter": "python",
   "pygments_lexer": "ipython3",
   "version": "3.9.12"
  }
 },
 "nbformat": 4,
 "nbformat_minor": 5
}
